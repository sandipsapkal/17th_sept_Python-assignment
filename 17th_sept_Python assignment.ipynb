{
 "cells": [
  {
   "cell_type": "code",
   "execution_count": null,
   "id": "2f70b046-05a0-4536-bc8d-09da2fba054e",
   "metadata": {},
   "outputs": [],
   "source": [
    "For Loop"
   ]
  },
  {
   "cell_type": "code",
   "execution_count": null,
   "id": "82ee2353-ac16-444a-8ffb-92c08d22d8b2",
   "metadata": {},
   "outputs": [],
   "source": [
    "1.\tWrite a Python program to print numbers from 1 to 10 using a for loop."
   ]
  },
  {
   "cell_type": "code",
   "execution_count": 1,
   "id": "c27995dd-b917-4fe1-ac01-8b78e8324fac",
   "metadata": {},
   "outputs": [
    {
     "name": "stdout",
     "output_type": "stream",
     "text": [
      "1\n",
      "2\n",
      "3\n",
      "4\n",
      "5\n",
      "6\n",
      "7\n",
      "8\n",
      "9\n",
      "10\n"
     ]
    }
   ],
   "source": [
    "for i in range(1, 11):\n",
    "    print(i)"
   ]
  },
  {
   "cell_type": "code",
   "execution_count": null,
   "id": "23ebd1f9-cf7f-47fc-b956-34908e84daa6",
   "metadata": {},
   "outputs": [],
   "source": [
    "2.\tExplain the difference between a for loop and a while loop in Python."
   ]
  },
  {
   "cell_type": "code",
   "execution_count": null,
   "id": "ada22af6-3f8b-446e-ab08-3ada8e60527c",
   "metadata": {},
   "outputs": [],
   "source": [
    "#In Python, both for loops and while loops are used for iteration, but they have different structures and use cases.\n",
    "1. The for loop is generally used when you know the number of iterations, and it iterates over a sequence. \n",
    "The while loop is used when the number of iterations is not known in advance, and it continues until a specified condition is false.\n",
    "2. The for loop is often used with the range() function or to iterate over elements in a collection. \n",
    "The while loop is used when a specific condition needs to be satisfied for the loop to continue.\n",
    "3. The for loop can be more concise and expressive when iterating over a known sequence, \n",
    "while the while loop provides more flexibility when the termination condition depends on changing variables."
   ]
  },
  {
   "cell_type": "code",
   "execution_count": null,
   "id": "97bd2598-0922-4a4e-b1cc-94789ed9ddb1",
   "metadata": {},
   "outputs": [],
   "source": [
    "3.\tWrite a Python program to calculate the sum of all numbers from 1 to 100 using a for loop."
   ]
  },
  {
   "cell_type": "code",
   "execution_count": 2,
   "id": "5d12668e-7422-4481-9b47-9a0ac5394eeb",
   "metadata": {},
   "outputs": [
    {
     "name": "stdout",
     "output_type": "stream",
     "text": [
      "Sum of numbers from 1 to 100: 5050\n"
     ]
    }
   ],
   "source": [
    "# Initialize a variable to store the sum\n",
    "sum_of_numbers = 0\n",
    "\n",
    "# Use a for loop to iterate from 1 to 100 (inclusive)\n",
    "for num in range(1, 101):\n",
    "    sum_of_numbers += num\n",
    "\n",
    "# Print the sum\n",
    "print(\"Sum of numbers from 1 to 100:\", sum_of_numbers)"
   ]
  },
  {
   "cell_type": "code",
   "execution_count": null,
   "id": "3f007b56-5c12-45bb-a311-dc02f9b47e6b",
   "metadata": {},
   "outputs": [],
   "source": [
    "4.\tHow do you iterate through a list using a for loop in Python?"
   ]
  },
  {
   "cell_type": "code",
   "execution_count": 3,
   "id": "7dbafb51-bffa-4f25-91d5-9954266ed97d",
   "metadata": {},
   "outputs": [
    {
     "name": "stdout",
     "output_type": "stream",
     "text": [
      "1\n",
      "2\n",
      "3\n",
      "4\n",
      "5\n"
     ]
    }
   ],
   "source": [
    "my_list = [1, 2, 3, 4, 5]\n",
    "\n",
    "# Iterate through the indices of the list\n",
    "for i in range(len(my_list)):\n",
    "    print(my_list[i])"
   ]
  },
  {
   "cell_type": "code",
   "execution_count": null,
   "id": "eb0461d1-02c5-441a-ae9c-952f26f2b935",
   "metadata": {},
   "outputs": [],
   "source": [
    "5.\tWrite a Python program to find the product of all elements in a list using a for loop."
   ]
  },
  {
   "cell_type": "code",
   "execution_count": 4,
   "id": "150fc6c6-58c2-4bc7-9d7f-1ad03653e9ae",
   "metadata": {},
   "outputs": [
    {
     "name": "stdout",
     "output_type": "stream",
     "text": [
      "Product of elements in the list: 120\n"
     ]
    }
   ],
   "source": [
    "# Function to calculate the product of elements in a list\n",
    "def calculate_product(my_list):\n",
    "    # Initialize the product variable\n",
    "    product = 1\n",
    "\n",
    "    # Iterate through the elements of the list\n",
    "    for element in my_list:\n",
    "        product *= element\n",
    "\n",
    "    return product\n",
    "\n",
    "# Example list\n",
    "my_list = [2, 3, 4, 5]\n",
    "\n",
    "# Calculate the product using the function\n",
    "result = calculate_product(my_list)\n",
    "\n",
    "# Print the result\n",
    "print(\"Product of elements in the list:\", result)"
   ]
  },
  {
   "cell_type": "code",
   "execution_count": null,
   "id": "588b818f-83fa-40df-87e9-928e5d976a0c",
   "metadata": {},
   "outputs": [],
   "source": [
    "6.\tCreate a Python program that prints all even numbers from 1 to 20 using a for loop."
   ]
  },
  {
   "cell_type": "code",
   "execution_count": 5,
   "id": "90910dcf-a2d5-44f9-aa1f-4586393b3e49",
   "metadata": {},
   "outputs": [
    {
     "name": "stdout",
     "output_type": "stream",
     "text": [
      "2\n",
      "4\n",
      "6\n",
      "8\n",
      "10\n",
      "12\n",
      "14\n",
      "16\n",
      "18\n",
      "20\n"
     ]
    }
   ],
   "source": [
    "# Use a for loop to print even numbers from 1 to 20\n",
    "for num in range(2, 21, 2):\n",
    "    print(num)"
   ]
  },
  {
   "cell_type": "code",
   "execution_count": null,
   "id": "e273ef24-0601-41ee-a4e4-296abaa92105",
   "metadata": {},
   "outputs": [],
   "source": [
    "7.\tWrite a Python program that calculates the factorial of a number using a for loop."
   ]
  },
  {
   "cell_type": "code",
   "execution_count": 6,
   "id": "4458a90d-2e66-4bcf-9f94-b810d48b4c7e",
   "metadata": {},
   "outputs": [
    {
     "name": "stdout",
     "output_type": "stream",
     "text": [
      "The factorial of 5 is 120\n"
     ]
    }
   ],
   "source": [
    "# Function to calculate the factorial of a number\n",
    "def calculate_factorial(n):\n",
    "    # Initialize the factorial variable\n",
    "    factorial = 1\n",
    "\n",
    "    # Use a for loop to calculate the factorial\n",
    "    for i in range(1, n + 1):\n",
    "        factorial *= i\n",
    "\n",
    "    return factorial\n",
    "\n",
    "# Example: Calculate the factorial of 5\n",
    "number = 5\n",
    "result = calculate_factorial(number)\n",
    "\n",
    "# Print the result\n",
    "print(f\"The factorial of {number} is {result}\")"
   ]
  },
  {
   "cell_type": "code",
   "execution_count": null,
   "id": "a9393580-690c-475a-a05c-21cf17d6bd4d",
   "metadata": {},
   "outputs": [],
   "source": [
    "8.\tHow can you iterate through the characters of a string using a for loop in Python?"
   ]
  },
  {
   "cell_type": "code",
   "execution_count": 7,
   "id": "b712f172-0288-46eb-8aa6-d417c13e4c9d",
   "metadata": {},
   "outputs": [
    {
     "name": "stdout",
     "output_type": "stream",
     "text": [
      "H\n",
      "e\n",
      "l\n",
      "l\n",
      "o\n",
      ",\n",
      " \n",
      "W\n",
      "o\n",
      "r\n",
      "l\n",
      "d\n",
      "!\n"
     ]
    }
   ],
   "source": [
    "my_string = \"Hello, World!\"\n",
    "\n",
    "# Iterate through the characters of the string\n",
    "for char in my_string:\n",
    "    print(char)"
   ]
  },
  {
   "cell_type": "code",
   "execution_count": null,
   "id": "8d3feacf-e4b7-4a4d-a320-ae634b2b517d",
   "metadata": {},
   "outputs": [],
   "source": [
    "9.\tWrite a Python program to find the largest number in a list using a for loop."
   ]
  },
  {
   "cell_type": "code",
   "execution_count": 8,
   "id": "d53eabe9-0d11-47f4-9a0c-a105c9174443",
   "metadata": {},
   "outputs": [
    {
     "name": "stdout",
     "output_type": "stream",
     "text": [
      "The largest number in the list is: 10\n"
     ]
    }
   ],
   "source": [
    "# Function to find the largest number in a list\n",
    "def find_largest_number(my_list):\n",
    "    # Check if the list is not empty\n",
    "    if not my_list:\n",
    "        return None  # Return None for an empty list\n",
    "\n",
    "    # Initialize the largest variable with the first element of the list\n",
    "    largest = my_list[0]\n",
    "\n",
    "    # Use a for loop to find the largest number\n",
    "    for num in my_list:\n",
    "        if num > largest:\n",
    "            largest = num\n",
    "\n",
    "    return largest\n",
    "\n",
    "# Example list\n",
    "numbers = [4, 8, 2, 10, 5]\n",
    "\n",
    "# Find the largest number using the function\n",
    "result = find_largest_number(numbers)\n",
    "\n",
    "# Print the result\n",
    "print(\"The largest number in the list is:\", result)"
   ]
  },
  {
   "cell_type": "code",
   "execution_count": null,
   "id": "621e21e4-fd26-4082-b2a6-6921d0a29580",
   "metadata": {},
   "outputs": [],
   "source": [
    "10.\tCreate a Python program that prints the Fibonacci sequence up to a specified limit using a for loop."
   ]
  },
  {
   "cell_type": "code",
   "execution_count": 9,
   "id": "c0b97dfe-18a4-4f04-b0c9-89d88c1609f4",
   "metadata": {},
   "outputs": [
    {
     "name": "stdout",
     "output_type": "stream",
     "text": [
      "0 1 1 2 3 5 8 13 21 34 "
     ]
    }
   ],
   "source": [
    "# Function to generate the Fibonacci sequence up to a specified limit\n",
    "def fibonacci_sequence(limit):\n",
    "    # Initialize the first two numbers in the sequence\n",
    "    a, b = 0, 1\n",
    "\n",
    "    # Print the first two numbers\n",
    "    print(a, b, end=\" \")\n",
    "\n",
    "    # Use a for loop to generate the Fibonacci sequence\n",
    "    for _ in range(2, limit):\n",
    "        # Calculate the next number in the sequence\n",
    "        next_number = a + b\n",
    "\n",
    "        # Print the next number\n",
    "        print(next_number, end=\" \")\n",
    "\n",
    "        # Update a and b for the next iteration\n",
    "        a, b = b, next_number\n",
    "\n",
    "# Specify the limit for the Fibonacci sequence\n",
    "limit = 10  # You can change this to any positive integer\n",
    "\n",
    "# Generate and print the Fibonacci sequence up to the specified limit\n",
    "fibonacci_sequence(limit)"
   ]
  },
  {
   "cell_type": "code",
   "execution_count": null,
   "id": "35dbad4b-f781-4548-86e6-1e1771d761f8",
   "metadata": {},
   "outputs": [],
   "source": [
    "11.\tWrite a Python program to count the number of vowels in a given string using a for loop."
   ]
  },
  {
   "cell_type": "code",
   "execution_count": 10,
   "id": "cc52f4e9-7577-43b8-94ab-d3e9b55a48a6",
   "metadata": {},
   "outputs": [
    {
     "name": "stdout",
     "output_type": "stream",
     "text": [
      "Number of vowels in the string: 3\n"
     ]
    }
   ],
   "source": [
    "# Function to count the number of vowels in a string\n",
    "def count_vowels(input_string):\n",
    "    # Define a set of vowels\n",
    "    vowels = set(\"aeiouAEIOU\")\n",
    "\n",
    "    # Initialize the count variable\n",
    "    vowel_count = 0\n",
    "\n",
    "    # Use a for loop to iterate through the characters of the string\n",
    "    for char in input_string:\n",
    "        # Check if the character is a vowel\n",
    "        if char in vowels:\n",
    "            vowel_count += 1\n",
    "\n",
    "    return vowel_count\n",
    "\n",
    "# Example string\n",
    "my_string = \"Hello, World!\"\n",
    "\n",
    "# Count the number of vowels using the function\n",
    "result = count_vowels(my_string)\n",
    "\n",
    "# Print the result\n",
    "print(\"Number of vowels in the string:\", result)"
   ]
  },
  {
   "cell_type": "code",
   "execution_count": null,
   "id": "2a27af3f-fa29-44bd-99f3-b8a4f4cd8041",
   "metadata": {},
   "outputs": [],
   "source": [
    "12.\tCreate a Python program that generates a multiplication table for a given number using a for loop."
   ]
  },
  {
   "cell_type": "code",
   "execution_count": 11,
   "id": "67cd4b2d-45f2-40a9-989b-f7699dd0c807",
   "metadata": {},
   "outputs": [
    {
     "name": "stdout",
     "output_type": "stream",
     "text": [
      "7 x 1 = 7\n",
      "7 x 2 = 14\n",
      "7 x 3 = 21\n",
      "7 x 4 = 28\n",
      "7 x 5 = 35\n",
      "7 x 6 = 42\n",
      "7 x 7 = 49\n",
      "7 x 8 = 56\n",
      "7 x 9 = 63\n",
      "7 x 10 = 70\n"
     ]
    }
   ],
   "source": [
    "# Function to generate a multiplication table for a given number\n",
    "def multiplication_table(number):\n",
    "    # Use a for loop to iterate through the range of multiples\n",
    "    for i in range(1, 11):\n",
    "        result = number * i\n",
    "        print(f\"{number} x {i} = {result}\")\n",
    "\n",
    "# Example: Generate a multiplication table for the number 7\n",
    "multiplication_table(7)"
   ]
  },
  {
   "cell_type": "code",
   "execution_count": null,
   "id": "51c44bed-71af-46fe-bb77-ab2caf4c38f1",
   "metadata": {},
   "outputs": [],
   "source": [
    "13.\tWrite a Python program to reverse a list using a for loop."
   ]
  },
  {
   "cell_type": "code",
   "execution_count": 12,
   "id": "ee9ea306-df26-4ca8-833a-5d93ba3476c0",
   "metadata": {},
   "outputs": [
    {
     "name": "stdout",
     "output_type": "stream",
     "text": [
      "Original List: [1, 2, 3, 4, 5]\n",
      "Reversed List: [5, 4, 3, 2, 1]\n"
     ]
    }
   ],
   "source": [
    "# Function to reverse a list using a for loop\n",
    "def reverse_list(input_list):\n",
    "    reversed_list = []\n",
    "\n",
    "    # Use a for loop to iterate through the original list in reverse order\n",
    "    for i in range(len(input_list) - 1, -1, -1):\n",
    "        reversed_list.append(input_list[i])\n",
    "\n",
    "    return reversed_list\n",
    "\n",
    "# Example list\n",
    "original_list = [1, 2, 3, 4, 5]\n",
    "\n",
    "# Reverse the list using the function\n",
    "reversed_result = reverse_list(original_list)\n",
    "\n",
    "# Print the result\n",
    "print(\"Original List:\", original_list)\n",
    "print(\"Reversed List:\", reversed_result)"
   ]
  },
  {
   "cell_type": "code",
   "execution_count": null,
   "id": "ce1075da-b9f6-455f-8ea9-60f2ea04f1f2",
   "metadata": {},
   "outputs": [],
   "source": [
    "14.\tWrite a Python program to find the common elements between two lists using a for loop."
   ]
  },
  {
   "cell_type": "code",
   "execution_count": 13,
   "id": "896c8b17-a8b5-4011-9e49-c1b452a2587d",
   "metadata": {},
   "outputs": [
    {
     "name": "stdout",
     "output_type": "stream",
     "text": [
      "List 1: [1, 2, 3, 4, 5]\n",
      "List 2: [3, 4, 5, 6, 7]\n",
      "Common Elements: [3, 4, 5]\n"
     ]
    }
   ],
   "source": [
    "# Function to find common elements between two lists\n",
    "def find_common_elements(list1, list2):\n",
    "    common_elements = []\n",
    "\n",
    "    # Use a for loop to iterate through the elements of the first list\n",
    "    for element in list1:\n",
    "        # Check if the element is present in the second list\n",
    "        if element in list2:\n",
    "            common_elements.append(element)\n",
    "\n",
    "    return common_elements\n",
    "\n",
    "# Example lists\n",
    "list1 = [1, 2, 3, 4, 5]\n",
    "list2 = [3, 4, 5, 6, 7]\n",
    "\n",
    "# Find common elements using the function\n",
    "common_elements_result = find_common_elements(list1, list2)\n",
    "\n",
    "# Print the result\n",
    "print(\"List 1:\", list1)\n",
    "print(\"List 2:\", list2)\n",
    "print(\"Common Elements:\", common_elements_result)"
   ]
  },
  {
   "cell_type": "code",
   "execution_count": null,
   "id": "ed00a296-d29d-4b3f-9f94-1e4a7afdada6",
   "metadata": {},
   "outputs": [],
   "source": [
    "15.\tExplain how to use a for loop to iterate through the keys and values of a dictionary in Python."
   ]
  },
  {
   "cell_type": "code",
   "execution_count": 15,
   "id": "2eaa1e90-672b-4411-935c-c296ce3a35fa",
   "metadata": {},
   "outputs": [
    {
     "name": "stdout",
     "output_type": "stream",
     "text": [
      "Key: a, Value: 1\n",
      "Key: b, Value: 2\n",
      "Key: c, Value: 3\n"
     ]
    }
   ],
   "source": [
    "# Example dictionary\n",
    "my_dict = {'a': 1, 'b': 2, 'c': 3}\n",
    "\n",
    "# Iterating through keys and values using a for loop\n",
    "for key, value in my_dict.items():\n",
    "    print(f\"Key: {key}, Value: {value}\")"
   ]
  },
  {
   "cell_type": "code",
   "execution_count": null,
   "id": "40fa037d-165c-4a5c-85bf-da23ad5e392e",
   "metadata": {},
   "outputs": [],
   "source": [
    "16.\tWrite a Python program to find the GCD (Greatest Common Divisor) of two numbers using a for loop."
   ]
  },
  {
   "cell_type": "code",
   "execution_count": 16,
   "id": "a1f7dedb-9986-4b60-8be4-8bdb0f224deb",
   "metadata": {},
   "outputs": [
    {
     "name": "stdout",
     "output_type": "stream",
     "text": [
      "The GCD of 48 and 18 is 6\n"
     ]
    }
   ],
   "source": [
    "# Function to find the GCD of two numbers using the Euclidean algorithm\n",
    "def find_gcd(a, b):\n",
    "    while b:\n",
    "        a, b = b, a % b\n",
    "    return a\n",
    "\n",
    "# Example numbers\n",
    "num1 = 48\n",
    "num2 = 18\n",
    "\n",
    "# Find the GCD using the function\n",
    "result = find_gcd(num1, num2)\n",
    "\n",
    "# Print the result\n",
    "print(f\"The GCD of {num1} and {num2} is {result}\")"
   ]
  },
  {
   "cell_type": "code",
   "execution_count": null,
   "id": "d5ed975c-d2c3-4b55-944a-bdea190f918e",
   "metadata": {},
   "outputs": [],
   "source": [
    "17.\tCreate a Python program that checks if a string is a palindrome using a for loop."
   ]
  },
  {
   "cell_type": "code",
   "execution_count": 17,
   "id": "f5ca38d1-3c7b-4c9c-95a4-d21b684bc78a",
   "metadata": {},
   "outputs": [
    {
     "name": "stdout",
     "output_type": "stream",
     "text": [
      "A man a plan a canal Panama is a palindrome.\n"
     ]
    }
   ],
   "source": [
    "# Function to check if a string is a palindrome\n",
    "def is_palindrome(input_string):\n",
    "    # Remove spaces and convert to lowercase for case-insensitive comparison\n",
    "    cleaned_string = ''.join(input_string.split()).lower()\n",
    "\n",
    "    # Use a for loop to check if the string is a palindrome\n",
    "    for i in range(len(cleaned_string) // 2):\n",
    "        if cleaned_string[i] != cleaned_string[-1 - i]:\n",
    "            return False\n",
    "\n",
    "    return True\n",
    "\n",
    "# Example string\n",
    "my_string = \"A man a plan a canal Panama\"\n",
    "\n",
    "# Check if the string is a palindrome using the function\n",
    "result = is_palindrome(my_string)\n",
    "\n",
    "# Print the result\n",
    "if result:\n",
    "    print(f\"{my_string} is a palindrome.\")\n",
    "else:\n",
    "    print(f\"{my_string} is not a palindrome.\")"
   ]
  },
  {
   "cell_type": "code",
   "execution_count": null,
   "id": "8cfa2346-b354-434e-bcb4-d36897dae8e9",
   "metadata": {},
   "outputs": [],
   "source": [
    "18.\tWrite a Python program to remove duplicates from a list using a for loop."
   ]
  },
  {
   "cell_type": "code",
   "execution_count": 18,
   "id": "6f7b00a8-7ac2-4479-9ae0-d60c627ac7af",
   "metadata": {},
   "outputs": [
    {
     "name": "stdout",
     "output_type": "stream",
     "text": [
      "Original List: [1, 2, 2, 3, 4, 4, 5]\n",
      "List with Duplicates Removed: [1, 2, 3, 4, 5]\n"
     ]
    }
   ],
   "source": [
    "# Function to remove duplicates from a list using a for loop\n",
    "def remove_duplicates(input_list):\n",
    "    unique_list = []\n",
    "\n",
    "    # Use a for loop to iterate through the original list\n",
    "    for element in input_list:\n",
    "        # Check if the element is not already in the unique list\n",
    "        if element not in unique_list:\n",
    "            unique_list.append(element)\n",
    "\n",
    "    return unique_list\n",
    "\n",
    "# Example list with duplicates\n",
    "my_list = [1, 2, 2, 3, 4, 4, 5]\n",
    "\n",
    "# Remove duplicates using the function\n",
    "result = remove_duplicates(my_list)\n",
    "\n",
    "# Print the result\n",
    "print(\"Original List:\", my_list)\n",
    "print(\"List with Duplicates Removed:\", result)"
   ]
  },
  {
   "cell_type": "code",
   "execution_count": null,
   "id": "47de3d34-582f-4351-bb26-ff85652e2a03",
   "metadata": {},
   "outputs": [],
   "source": [
    "19.\tCreate a Python program that counts the number of words in a sentence using a for loop."
   ]
  },
  {
   "cell_type": "code",
   "execution_count": 19,
   "id": "71fdf7f8-f09f-4cd4-bc17-a404b252d5c4",
   "metadata": {},
   "outputs": [
    {
     "name": "stdout",
     "output_type": "stream",
     "text": [
      "The number of words in the sentence is: 8\n"
     ]
    }
   ],
   "source": [
    "# Function to count the number of words in a sentence\n",
    "def count_words(sentence):\n",
    "    # Split the sentence into words\n",
    "    words = sentence.split()\n",
    "\n",
    "    # Initialize the word count variable\n",
    "    word_count = 0\n",
    "\n",
    "    # Use a for loop to iterate through the words\n",
    "    for word in words:\n",
    "        word_count += 1\n",
    "\n",
    "    return word_count\n",
    "\n",
    "# Example sentence\n",
    "my_sentence = \"This is a sample sentence with some words.\"\n",
    "\n",
    "# Count the number of words using the function\n",
    "result = count_words(my_sentence)\n",
    "\n",
    "# Print the result\n",
    "print(f\"The number of words in the sentence is: {result}\")"
   ]
  },
  {
   "cell_type": "code",
   "execution_count": null,
   "id": "fcdf63f5-d1d3-4a7a-ba30-815c8b6f8c72",
   "metadata": {},
   "outputs": [],
   "source": [
    "20.\tWrite a Python program to find the sum of all odd numbers from 1 to 50 using a for loop."
   ]
  },
  {
   "cell_type": "code",
   "execution_count": 20,
   "id": "2c13e24a-065e-44b2-9560-d2f1fc451f72",
   "metadata": {},
   "outputs": [
    {
     "name": "stdout",
     "output_type": "stream",
     "text": [
      "Sum of odd numbers from 1 to 50: 625\n"
     ]
    }
   ],
   "source": [
    "# Initialize a variable to store the sum of odd numbers\n",
    "sum_of_odd_numbers = 0\n",
    "\n",
    "# Use a for loop to iterate through the numbers from 1 to 50\n",
    "for num in range(1, 51, 2):\n",
    "    # Add the current odd number to the sum\n",
    "    sum_of_odd_numbers += num\n",
    "\n",
    "# Print the sum of odd numbers\n",
    "print(\"Sum of odd numbers from 1 to 50:\", sum_of_odd_numbers)\n"
   ]
  },
  {
   "cell_type": "code",
   "execution_count": null,
   "id": "e204e4ad-bd2c-479e-8525-892adf84b314",
   "metadata": {},
   "outputs": [],
   "source": [
    "21.\tWrite a Python program that checks if a given year is a leap year using a for loop."
   ]
  },
  {
   "cell_type": "code",
   "execution_count": 21,
   "id": "07f4d826-9188-44c6-b03d-a7ec28d71ed2",
   "metadata": {},
   "outputs": [
    {
     "name": "stdout",
     "output_type": "stream",
     "text": [
      "2024 is a leap year.\n"
     ]
    }
   ],
   "source": [
    "# Function to check if a year is a leap year\n",
    "def is_leap_year(year):\n",
    "    # Check the conditions for a leap year\n",
    "    if (year % 4 == 0 and year % 100 != 0) or (year % 400 == 0):\n",
    "        return True\n",
    "    else:\n",
    "        return False\n",
    "\n",
    "# Example: Check if the year 2024 is a leap year\n",
    "year_to_check = 2024\n",
    "\n",
    "# Check if it's a leap year using the function\n",
    "result = is_leap_year(year_to_check)\n",
    "\n",
    "# Print the result\n",
    "if result:\n",
    "    print(f\"{year_to_check} is a leap year.\")\n",
    "else:\n",
    "    print(f\"{year_to_check} is not a leap year.\")"
   ]
  },
  {
   "cell_type": "code",
   "execution_count": null,
   "id": "32bf71ac-a355-4a1e-a997-2b3e64f44f86",
   "metadata": {},
   "outputs": [],
   "source": [
    "22.\tCreate a Python program that calculates the square root of a number using a for loop."
   ]
  },
  {
   "cell_type": "code",
   "execution_count": 22,
   "id": "61dde787-e7d2-4cf1-838d-2249980c5e37",
   "metadata": {},
   "outputs": [
    {
     "name": "stdout",
     "output_type": "stream",
     "text": [
      "The square root of 25 is approximately: 5.0\n"
     ]
    }
   ],
   "source": [
    "# Function to calculate the square root using the Newton-Raphson method\n",
    "def square_root_approximation(number, epsilon=1e-10):\n",
    "    guess = number  # Initial guess\n",
    "\n",
    "    # Use a for loop for a maximum number of iterations (e.g., 100)\n",
    "    for _ in range(100):\n",
    "        new_guess = 0.5 * (guess + number / guess)\n",
    "\n",
    "        # Check if the difference between consecutive guesses is within epsilon\n",
    "        if abs(new_guess - guess) < epsilon:\n",
    "            return new_guess\n",
    "\n",
    "        guess = new_guess\n",
    "\n",
    "    return guess\n",
    "\n",
    "# Example: Calculate the square root of 25\n",
    "number_to_sqrt = 25\n",
    "\n",
    "# Calculate the square root using the function\n",
    "result = square_root_approximation(number_to_sqrt)\n",
    "\n",
    "# Print the result\n",
    "print(f\"The square root of {number_to_sqrt} is approximately: {result}\")"
   ]
  },
  {
   "cell_type": "code",
   "execution_count": null,
   "id": "f192382e-02a9-451f-ba14-c586531a0d10",
   "metadata": {},
   "outputs": [],
   "source": [
    "23.\tWrite a Python program to find the LCM (Least Common Multiple) of two numbers using a for loop."
   ]
  },
  {
   "cell_type": "code",
   "execution_count": 23,
   "id": "e9e1dfbc-5e9d-4523-b1aa-4cd566c9c8c5",
   "metadata": {},
   "outputs": [
    {
     "name": "stdout",
     "output_type": "stream",
     "text": [
      "The LCM of 12 and 18 is: 36\n"
     ]
    }
   ],
   "source": [
    "# Function to find the GCD (Greatest Common Divisor) using the Euclidean algorithm\n",
    "def find_gcd(a, b):\n",
    "    while b:\n",
    "        a, b = b, a % b\n",
    "    return a\n",
    "\n",
    "# Function to find the LCM (Least Common Multiple) of two numbers\n",
    "def find_lcm(a, b):\n",
    "    # Calculate the product of the numbers\n",
    "    product = a * b\n",
    "    \n",
    "    # Use the GCD formula to find the LCM\n",
    "    lcm = product // find_gcd(a, b)\n",
    "    \n",
    "    return lcm\n",
    "\n",
    "# Example numbers\n",
    "num1 = 12\n",
    "num2 = 18\n",
    "\n",
    "# Find the LCM using the function\n",
    "result = find_lcm(num1, num2)\n",
    "\n",
    "# Print the result\n",
    "print(f\"The LCM of {num1} and {num2} is: {result}\")"
   ]
  },
  {
   "cell_type": "code",
   "execution_count": null,
   "id": "bfc89c50-f63a-4bed-86f8-91c24bbb3ff0",
   "metadata": {},
   "outputs": [],
   "source": [
    "If else :"
   ]
  },
  {
   "cell_type": "code",
   "execution_count": null,
   "id": "78a93e7e-0749-4b0f-ba6a-7db46f26149e",
   "metadata": {},
   "outputs": [],
   "source": [
    "1.\tWrite a Python program to check if a number is positive, negative, or zero using an if-else statement."
   ]
  },
  {
   "cell_type": "code",
   "execution_count": 24,
   "id": "e76ac0b3-5dca-4488-b9ca-6b108f8a99b8",
   "metadata": {},
   "outputs": [
    {
     "name": "stdin",
     "output_type": "stream",
     "text": [
      "Enter a number:  6\n"
     ]
    },
    {
     "name": "stdout",
     "output_type": "stream",
     "text": [
      "The number is positive.\n"
     ]
    }
   ],
   "source": [
    "# Get user input for the number\n",
    "number = float(input(\"Enter a number: \"))\n",
    "\n",
    "# Check if the number is positive, negative, or zero\n",
    "if number > 0:\n",
    "    print(\"The number is positive.\")\n",
    "elif number < 0:\n",
    "    print(\"The number is negative.\")\n",
    "else:\n",
    "    print(\"The number is zero.\")"
   ]
  },
  {
   "cell_type": "code",
   "execution_count": null,
   "id": "e7268e6d-1ec7-466c-b819-e66e62735b6b",
   "metadata": {},
   "outputs": [],
   "source": [
    "2.\tCreate a Python program that checks if a given number is even or odd using an if-else statement."
   ]
  },
  {
   "cell_type": "code",
   "execution_count": 25,
   "id": "f8a04fec-5a06-4e2e-9378-38ae43569622",
   "metadata": {},
   "outputs": [
    {
     "name": "stdin",
     "output_type": "stream",
     "text": [
      "Enter a number:  89\n"
     ]
    },
    {
     "name": "stdout",
     "output_type": "stream",
     "text": [
      "The number is odd.\n"
     ]
    }
   ],
   "source": [
    "# Get user input for the number\n",
    "number = int(input(\"Enter a number: \"))\n",
    "\n",
    "# Check if the number is even or odd\n",
    "if number % 2 == 0:\n",
    "    print(\"The number is even.\")\n",
    "else:\n",
    "    print(\"The number is odd.\")"
   ]
  },
  {
   "cell_type": "code",
   "execution_count": null,
   "id": "f4aa02e7-28c8-47ef-971f-2fb21728b0c5",
   "metadata": {},
   "outputs": [],
   "source": [
    "3.\tHow can you use nested if-else statements in Python, and provide an example?"
   ]
  },
  {
   "cell_type": "code",
   "execution_count": 26,
   "id": "f0aa88c0-af91-4017-94f7-1da18dd33581",
   "metadata": {},
   "outputs": [
    {
     "name": "stdin",
     "output_type": "stream",
     "text": [
      "Enter your age:  67\n",
      "Enter your grade:  78\n"
     ]
    },
    {
     "name": "stdout",
     "output_type": "stream",
     "text": [
      "You are eligible to vote.\n",
      "Congratulations! You passed the exam.\n"
     ]
    }
   ],
   "source": [
    "# Get user input for age and grade\n",
    "age = int(input(\"Enter your age: \"))\n",
    "grade = int(input(\"Enter your grade: \"))\n",
    "\n",
    "# Check age and grade eligibility\n",
    "if age >= 18:\n",
    "    print(\"You are eligible to vote.\")\n",
    "    \n",
    "    if grade >= 70:\n",
    "        print(\"Congratulations! You passed the exam.\")\n",
    "    else:\n",
    "        print(\"Sorry, you did not pass the exam.\")\n",
    "        \n",
    "else:\n",
    "    print(\"You are not eligible to vote.\")\n",
    "\n",
    "    if grade >= 60:\n",
    "        print(\"Good effort! You passed the exam.\")\n",
    "    else:\n",
    "        print(\"You need to work harder to pass the exam.\")"
   ]
  },
  {
   "cell_type": "code",
   "execution_count": null,
   "id": "dce777e7-7e56-4d02-887b-f0b7b611e7e3",
   "metadata": {},
   "outputs": [],
   "source": [
    "4.\tWrite a Python program to determine the largest of three numbers using if-else."
   ]
  },
  {
   "cell_type": "code",
   "execution_count": 27,
   "id": "a6922a96-4750-4e41-bc8c-969607cd9aeb",
   "metadata": {},
   "outputs": [
    {
     "name": "stdin",
     "output_type": "stream",
     "text": [
      "Enter the first number:  56\n",
      "Enter the second number:  57\n",
      "Enter the third number:  55\n"
     ]
    },
    {
     "name": "stdout",
     "output_type": "stream",
     "text": [
      "The largest number is: 57.0\n"
     ]
    }
   ],
   "source": [
    "# Get user input for three numbers\n",
    "num1 = float(input(\"Enter the first number: \"))\n",
    "num2 = float(input(\"Enter the second number: \"))\n",
    "num3 = float(input(\"Enter the third number: \"))\n",
    "\n",
    "# Determine the largest number using if-else statements\n",
    "if num1 >= num2 and num1 >= num3:\n",
    "    largest = num1\n",
    "elif num2 >= num1 and num2 >= num3:\n",
    "    largest = num2\n",
    "else:\n",
    "    largest = num3\n",
    "\n",
    "# Print the result\n",
    "print(\"The largest number is:\", largest)"
   ]
  },
  {
   "cell_type": "code",
   "execution_count": null,
   "id": "1f533ef2-269e-4f6e-86c5-50ac63260cf6",
   "metadata": {},
   "outputs": [],
   "source": [
    "5.\tWrite a Python program that calculates the absolute value of a number using if-else."
   ]
  },
  {
   "cell_type": "code",
   "execution_count": 28,
   "id": "6bc5c996-503e-4247-b39d-f74e5da46424",
   "metadata": {},
   "outputs": [
    {
     "name": "stdin",
     "output_type": "stream",
     "text": [
      "Enter a number:  9\n"
     ]
    },
    {
     "name": "stdout",
     "output_type": "stream",
     "text": [
      "The absolute value of 9.0 is: 9.0\n"
     ]
    }
   ],
   "source": [
    "# Get user input for the number\n",
    "number = float(input(\"Enter a number: \"))\n",
    "\n",
    "# Calculate the absolute value using if-else statements\n",
    "if number >= 0:\n",
    "    absolute_value = number\n",
    "else:\n",
    "    absolute_value = -number\n",
    "\n",
    "# Print the result\n",
    "print(f\"The absolute value of {number} is: {absolute_value}\")"
   ]
  },
  {
   "cell_type": "code",
   "execution_count": null,
   "id": "5b9ebcd7-0eb2-45c0-9230-2b71d7af1f9b",
   "metadata": {},
   "outputs": [],
   "source": [
    "6.\tCreate a Python program that checks if a given character is a vowel or consonant using if-else."
   ]
  },
  {
   "cell_type": "code",
   "execution_count": 29,
   "id": "f4b04e70-fb95-4ce8-bc4c-d28e2bd2de30",
   "metadata": {},
   "outputs": [
    {
     "name": "stdin",
     "output_type": "stream",
     "text": [
      "Enter a character:  y\n"
     ]
    },
    {
     "name": "stdout",
     "output_type": "stream",
     "text": [
      "The character y is a consonant.\n"
     ]
    }
   ],
   "source": [
    "# Get user input for a character\n",
    "char = input(\"Enter a character: \")\n",
    "\n",
    "# Convert the character to lowercase for case-insensitive comparison\n",
    "char = char.lower()\n",
    "\n",
    "# Check if the character is a vowel or consonant using if-else statements\n",
    "if char.isalpha() and len(char) == 1:\n",
    "    if char in 'aeiou':\n",
    "        print(f\"The character {char} is a vowel.\")\n",
    "    else:\n",
    "        print(f\"The character {char} is a consonant.\")\n",
    "else:\n",
    "    print(\"Invalid input. Please enter a single alphabet character.\")"
   ]
  },
  {
   "cell_type": "code",
   "execution_count": null,
   "id": "3a2fa434-5b0f-4e9c-b54c-3a5294ecef3d",
   "metadata": {},
   "outputs": [],
   "source": [
    "7.\tWrite a Python program to determine if a user is eligible to vote based on their age using if-else."
   ]
  },
  {
   "cell_type": "code",
   "execution_count": 30,
   "id": "5e6a9164-2a9d-4713-99bf-f1d735d48cd1",
   "metadata": {},
   "outputs": [
    {
     "name": "stdin",
     "output_type": "stream",
     "text": [
      "Enter your age:  18\n"
     ]
    },
    {
     "name": "stdout",
     "output_type": "stream",
     "text": [
      "You are eligible to vote.\n"
     ]
    }
   ],
   "source": [
    "# Get user input for age\n",
    "age = int(input(\"Enter your age: \"))\n",
    "\n",
    "# Check if the user is eligible to vote using if-else statements\n",
    "if age >= 18:\n",
    "    print(\"You are eligible to vote.\")\n",
    "else:\n",
    "    print(\"You are not eligible to vote yet.\")"
   ]
  },
  {
   "cell_type": "code",
   "execution_count": null,
   "id": "522ad52d-6487-4207-94a1-12126cdc624a",
   "metadata": {},
   "outputs": [],
   "source": [
    "8.\tCreate a Python program that calculates the discount amount based on the purchase amount using if-else."
   ]
  },
  {
   "cell_type": "code",
   "execution_count": 31,
   "id": "01120ef5-0889-4a4b-8c35-c75dc04f0f4d",
   "metadata": {},
   "outputs": [
    {
     "name": "stdin",
     "output_type": "stream",
     "text": [
      "Enter the purchase amount:  657\n"
     ]
    },
    {
     "name": "stdout",
     "output_type": "stream",
     "text": [
      "Purchase Amount: $657.00\n",
      "Discount Percent: 0%\n",
      "Discount Amount: $0.00\n",
      "Final Amount after Discount: $657.00\n"
     ]
    }
   ],
   "source": [
    "# Get user input for the purchase amount\n",
    "purchase_amount = float(input(\"Enter the purchase amount: \"))\n",
    "\n",
    "# Calculate the discount based on the purchase amount using if-else statements\n",
    "if purchase_amount >= 1000:\n",
    "    discount_percent = 10\n",
    "else:\n",
    "    discount_percent = 0\n",
    "\n",
    "# Calculate the discount amount\n",
    "discount_amount = (discount_percent / 100) * purchase_amount\n",
    "\n",
    "# Calculate the final amount after applying the discount\n",
    "final_amount = purchase_amount - discount_amount\n",
    "\n",
    "# Print the results\n",
    "print(f\"Purchase Amount: ${purchase_amount:.2f}\")\n",
    "print(f\"Discount Percent: {discount_percent}%\")\n",
    "print(f\"Discount Amount: ${discount_amount:.2f}\")\n",
    "print(f\"Final Amount after Discount: ${final_amount:.2f}\")"
   ]
  },
  {
   "cell_type": "code",
   "execution_count": null,
   "id": "c6254b55-d1d8-4a97-b046-37da4a6182a4",
   "metadata": {},
   "outputs": [],
   "source": [
    "9.\tWrite a Python program to check if a number is within a specified range using if-else."
   ]
  },
  {
   "cell_type": "code",
   "execution_count": 1,
   "id": "c662a4b0-b57f-40f1-908f-e84654a6773c",
   "metadata": {},
   "outputs": [
    {
     "name": "stdin",
     "output_type": "stream",
     "text": [
      "Enter a number to check within the range:  9\n"
     ]
    },
    {
     "name": "stdout",
     "output_type": "stream",
     "text": [
      "9 is outside the specified range [10, 50]\n"
     ]
    }
   ],
   "source": [
    "def check_number_in_range(number, lower_limit, upper_limit):\n",
    "    if lower_limit <= number <= upper_limit:\n",
    "        print(f\"{number} is within the specified range [{lower_limit}, {upper_limit}]\")\n",
    "    else:\n",
    "        print(f\"{number} is outside the specified range [{lower_limit}, {upper_limit}]\")\n",
    "\n",
    "# Example usage:\n",
    "lower_limit = 10\n",
    "upper_limit = 50\n",
    "user_input = int(input(\"Enter a number to check within the range: \"))\n",
    "\n",
    "check_number_in_range(user_input, lower_limit, upper_limit)"
   ]
  },
  {
   "cell_type": "code",
   "execution_count": null,
   "id": "f463420a-70d4-4023-a97b-19215c9925bd",
   "metadata": {},
   "outputs": [],
   "source": [
    "10.\tCreate a Python program that determines the grade of a student based on their score using if-else."
   ]
  },
  {
   "cell_type": "code",
   "execution_count": 2,
   "id": "fc2c8100-d412-4f4b-bd08-0e7f9c953bf0",
   "metadata": {},
   "outputs": [
    {
     "name": "stdin",
     "output_type": "stream",
     "text": [
      "Enter the student's score:  88\n"
     ]
    },
    {
     "name": "stdout",
     "output_type": "stream",
     "text": [
      "The student's grade is: B\n"
     ]
    }
   ],
   "source": [
    "def calculate_grade(score):\n",
    "    if 90 <= score <= 100:\n",
    "        return 'A'\n",
    "    elif 80 <= score < 90:\n",
    "        return 'B'\n",
    "    elif 70 <= score < 80:\n",
    "        return 'C'\n",
    "    elif 60 <= score < 70:\n",
    "        return 'D'\n",
    "    elif 0 <= score < 60:\n",
    "        return 'F'\n",
    "    else:\n",
    "        return 'Invalid score. Please enter a score between 0 and 100.'\n",
    "\n",
    "# Example usage:\n",
    "try:\n",
    "    user_score = float(input(\"Enter the student's score: \"))\n",
    "    if 0 <= user_score <= 100:\n",
    "        result = calculate_grade(user_score)\n",
    "        print(f\"The student's grade is: {result}\")\n",
    "    else:\n",
    "        print(\"Invalid score. Please enter a score between 0 and 100.\")\n",
    "except ValueError:\n",
    "    print(\"Invalid input. Please enter a numerical score.\")"
   ]
  },
  {
   "cell_type": "code",
   "execution_count": null,
   "id": "bef0435b-940b-4bdb-91d1-915c235b082a",
   "metadata": {},
   "outputs": [],
   "source": [
    "11.\tWrite a Python program to check if a string is empty or not using if-else."
   ]
  },
  {
   "cell_type": "code",
   "execution_count": 5,
   "id": "55df2713-6b65-46af-86f2-bd8f29b01577",
   "metadata": {},
   "outputs": [
    {
     "name": "stdin",
     "output_type": "stream",
     "text": [
      "Enter a string:  \n"
     ]
    },
    {
     "name": "stdout",
     "output_type": "stream",
     "text": [
      "The string is empty.\n"
     ]
    }
   ],
   "source": [
    "def check_empty_string(input_string):\n",
    "    if not input_string:\n",
    "        print(\"The string is empty.\")\n",
    "    else:\n",
    "        print(\"The string is not empty.\")\n",
    "\n",
    "# Example usage:\n",
    "user_input = input(\"Enter a string: \")\n",
    "check_empty_string(user_input)"
   ]
  },
  {
   "cell_type": "code",
   "execution_count": null,
   "id": "69d42996-3891-4e62-a6c4-ff6f1ff468aa",
   "metadata": {},
   "outputs": [],
   "source": [
    "12.\tCreate a Python program that identifies the type of a triangle based on input values using if-else."
   ]
  },
  {
   "cell_type": "code",
   "execution_count": 6,
   "id": "27ca52c8-a30d-4d97-b0b2-473dd1c21cd2",
   "metadata": {},
   "outputs": [
    {
     "name": "stdin",
     "output_type": "stream",
     "text": [
      "Enter the length of side A:  9\n",
      "Enter the length of side B:  11\n",
      "Enter the length of side C:  13\n"
     ]
    },
    {
     "name": "stdout",
     "output_type": "stream",
     "text": [
      "The triangle is a Scalene Triangle.\n"
     ]
    }
   ],
   "source": [
    "def identify_triangle_type(side1, side2, side3):\n",
    "    if side1 == side2 == side3:\n",
    "        return \"Equilateral Triangle\"\n",
    "    elif side1 == side2 or side1 == side3 or side2 == side3:\n",
    "        return \"Isosceles Triangle\"\n",
    "    else:\n",
    "        return \"Scalene Triangle\"\n",
    "\n",
    "# Example usage:\n",
    "try:\n",
    "    side_a = float(input(\"Enter the length of side A: \"))\n",
    "    side_b = float(input(\"Enter the length of side B: \"))\n",
    "    side_c = float(input(\"Enter the length of side C: \"))\n",
    "\n",
    "    if side_a > 0 and side_b > 0 and side_c > 0:\n",
    "        result = identify_triangle_type(side_a, side_b, side_c)\n",
    "        print(f\"The triangle is a {result}.\")\n",
    "    else:\n",
    "        print(\"Invalid input. Please enter positive values for all sides.\")\n",
    "except ValueError:\n",
    "    print(\"Invalid input. Please enter numerical values for all sides.\")"
   ]
  },
  {
   "cell_type": "code",
   "execution_count": null,
   "id": "320eaeae-9f88-4ff0-8f64-344511a86d84",
   "metadata": {},
   "outputs": [],
   "source": [
    "13.\tWrite a Python program to determine the day of the week based on a user-provided number using if-else."
   ]
  },
  {
   "cell_type": "code",
   "execution_count": 7,
   "id": "65947c07-d4ac-4b1f-a698-38056745d5fc",
   "metadata": {},
   "outputs": [
    {
     "name": "stdin",
     "output_type": "stream",
     "text": [
      "Enter a number (1-7) to determine the day of the week:  4\n"
     ]
    },
    {
     "name": "stdout",
     "output_type": "stream",
     "text": [
      "The day of the week is: Thursday\n"
     ]
    }
   ],
   "source": [
    "def determine_day_of_week(day_number):\n",
    "    if day_number == 1:\n",
    "        return \"Monday\"\n",
    "    elif day_number == 2:\n",
    "        return \"Tuesday\"\n",
    "    elif day_number == 3:\n",
    "        return \"Wednesday\"\n",
    "    elif day_number == 4:\n",
    "        return \"Thursday\"\n",
    "    elif day_number == 5:\n",
    "        return \"Friday\"\n",
    "    elif day_number == 6:\n",
    "        return \"Saturday\"\n",
    "    elif day_number == 7:\n",
    "        return \"Sunday\"\n",
    "    else:\n",
    "        return \"Invalid day number. Please enter a number between 1 and 7.\"\n",
    "\n",
    "# Example usage:\n",
    "try:\n",
    "    user_input = int(input(\"Enter a number (1-7) to determine the day of the week: \"))\n",
    "    \n",
    "    if 1 <= user_input <= 7:\n",
    "        result = determine_day_of_week(user_input)\n",
    "        print(f\"The day of the week is: {result}\")\n",
    "    else:\n",
    "        print(\"Invalid input. Please enter a number between 1 and 7.\")\n",
    "except ValueError:\n",
    "    print(\"Invalid input. Please enter a numerical value.\")"
   ]
  },
  {
   "cell_type": "code",
   "execution_count": null,
   "id": "c338088b-c1ef-4f7b-a587-6b303696ab6d",
   "metadata": {},
   "outputs": [],
   "source": [
    "14.\tCreate a Python program that checks if a given year is a leap year using both if-else and a function."
   ]
  },
  {
   "cell_type": "code",
   "execution_count": 8,
   "id": "5620e87b-f1f3-439e-b3c1-6059a8585b7a",
   "metadata": {},
   "outputs": [
    {
     "name": "stdin",
     "output_type": "stream",
     "text": [
      "Enter a year to check if it's a leap year:  2028\n"
     ]
    },
    {
     "name": "stdout",
     "output_type": "stream",
     "text": [
      "2028 is a leap year.\n"
     ]
    }
   ],
   "source": [
    "def is_leap_year(year):\n",
    "    if (year % 4 == 0 and year % 100 != 0) or (year % 400 == 0):\n",
    "        return True\n",
    "    else:\n",
    "        return False\n",
    "\n",
    "# Example usage:\n",
    "try:\n",
    "    user_year = int(input(\"Enter a year to check if it's a leap year: \"))\n",
    "    \n",
    "    if user_year > 0:\n",
    "        if is_leap_year(user_year):\n",
    "            print(f\"{user_year} is a leap year.\")\n",
    "        else:\n",
    "            print(f\"{user_year} is not a leap year.\")\n",
    "    else:\n",
    "        print(\"Invalid input. Please enter a positive year.\")\n",
    "except ValueError:\n",
    "    print(\"Invalid input. Please enter a numerical value for the year.\")"
   ]
  },
  {
   "cell_type": "code",
   "execution_count": null,
   "id": "0f92d831-7fc6-45a7-ae30-92e12d5d1e2a",
   "metadata": {},
   "outputs": [],
   "source": [
    "15.\tHow do you use the \"assert\" statement in Python to add debugging checks within if-else blocks?"
   ]
  },
  {
   "cell_type": "code",
   "execution_count": 10,
   "id": "d1747446-d3f5-4ae0-bb02-d8dade5f0caf",
   "metadata": {},
   "outputs": [
    {
     "name": "stdin",
     "output_type": "stream",
     "text": [
      "Enter the numerator:  8\n",
      "Enter the denominator:  0\n"
     ]
    },
    {
     "name": "stdout",
     "output_type": "stream",
     "text": [
      "AssertionError: Cannot divide by zero!\n"
     ]
    }
   ],
   "source": [
    "def divide_numbers(a, b):\n",
    "    assert b != 0, \"Cannot divide by zero!\"\n",
    "    \n",
    "    result = a / b\n",
    "    return result\n",
    "\n",
    "# Example usage:\n",
    "try:\n",
    "    num1 = float(input(\"Enter the numerator: \"))\n",
    "    num2 = float(input(\"Enter the denominator: \"))\n",
    "    \n",
    "    result = divide_numbers(num1, num2)\n",
    "    print(f\"The result of {num1} / {num2} is: {result}\")\n",
    "\n",
    "except ValueError:\n",
    "    print(\"Invalid input. Please enter numerical values.\")\n",
    "except AssertionError as e:\n",
    "    print(f\"AssertionError: {e}\")"
   ]
  },
  {
   "cell_type": "code",
   "execution_count": null,
   "id": "c448516e-b172-4ca2-a000-b12658448f7f",
   "metadata": {},
   "outputs": [],
   "source": [
    "16.\tCreate a Python program that determines the eligibility of a person for a senior citizen discount based on age using if-else."
   ]
  },
  {
   "cell_type": "code",
   "execution_count": 11,
   "id": "4dee7558-33ce-497f-a298-69f2ff0bf100",
   "metadata": {},
   "outputs": [
    {
     "name": "stdin",
     "output_type": "stream",
     "text": [
      "Enter your age:  66\n"
     ]
    },
    {
     "name": "stdout",
     "output_type": "stream",
     "text": [
      "You are eligible for a senior citizen discount!\n"
     ]
    }
   ],
   "source": [
    "def check_senior_citizen_discount(age):\n",
    "    if age >= 60:\n",
    "        return \"You are eligible for a senior citizen discount!\"\n",
    "    else:\n",
    "        return \"You are not eligible for a senior citizen discount.\"\n",
    "\n",
    "# Example usage:\n",
    "try:\n",
    "    user_age = int(input(\"Enter your age: \"))\n",
    "    \n",
    "    if user_age >= 0:\n",
    "        result = check_senior_citizen_discount(user_age)\n",
    "        print(result)\n",
    "    else:\n",
    "        print(\"Invalid input. Please enter a non-negative age.\")\n",
    "except ValueError:\n",
    "    print(\"Invalid input. Please enter a numerical value for age.\")"
   ]
  },
  {
   "cell_type": "code",
   "execution_count": null,
   "id": "47f0e20c-2abd-414a-8bf1-bf8968770b46",
   "metadata": {},
   "outputs": [],
   "source": [
    "17.\tWrite a Python program to categorize a given character as uppercase, lowercase, or neither using if-else."
   ]
  },
  {
   "cell_type": "code",
   "execution_count": 12,
   "id": "508a1598-4a38-4591-8195-8e0660bdb87f",
   "metadata": {},
   "outputs": [
    {
     "name": "stdin",
     "output_type": "stream",
     "text": [
      "Enter a single character:  Z\n"
     ]
    },
    {
     "name": "stdout",
     "output_type": "stream",
     "text": [
      "The character 'Z' is: Uppercase letter\n"
     ]
    }
   ],
   "source": [
    "def categorize_character(char):\n",
    "    if char.isupper():\n",
    "        return \"Uppercase letter\"\n",
    "    elif char.islower():\n",
    "        return \"Lowercase letter\"\n",
    "    else:\n",
    "        return \"Not an alphabetic character\"\n",
    "\n",
    "# Example usage:\n",
    "try:\n",
    "    user_input = input(\"Enter a single character: \")\n",
    "    \n",
    "    if len(user_input) == 1:\n",
    "        result = categorize_character(user_input)\n",
    "        print(f\"The character '{user_input}' is: {result}\")\n",
    "    else:\n",
    "        print(\"Invalid input. Please enter a single character.\")\n",
    "except ValueError:\n",
    "    print(\"Invalid input. Please enter a valid character.\")"
   ]
  },
  {
   "cell_type": "code",
   "execution_count": null,
   "id": "e090c1b1-7916-45e3-adb5-c54ae9b4665f",
   "metadata": {},
   "outputs": [],
   "source": [
    "18.\tWrite a Python program to determine the roots of a quadratic equation using if-else."
   ]
  },
  {
   "cell_type": "code",
   "execution_count": 13,
   "id": "72c27981-287f-4da9-b206-e3c0288d3792",
   "metadata": {},
   "outputs": [
    {
     "name": "stdin",
     "output_type": "stream",
     "text": [
      "Enter the coefficient 'a':  7\n",
      "Enter the coefficient 'b':  9\n",
      "Enter the constant 'c':  3\n"
     ]
    },
    {
     "name": "stdout",
     "output_type": "stream",
     "text": [
      "Roots are complex. Root 1 = -0.6428571428571429 + 0.12371791482634838i, Root 2 = -0.6428571428571429 - 0.12371791482634838i\n"
     ]
    }
   ],
   "source": [
    "import math\n",
    "\n",
    "def calculate_roots(a, b, c):\n",
    "    # Calculate the discriminant\n",
    "    discriminant = b**2 - 4*a*c\n",
    "    \n",
    "    # Check the nature of roots based on the discriminant\n",
    "    if discriminant > 0:\n",
    "        root1 = (-b + math.sqrt(discriminant)) / (2*a)\n",
    "        root2 = (-b - math.sqrt(discriminant)) / (2*a)\n",
    "        return f\"Roots are real and different. Root 1 = {root1}, Root 2 = {root2}\"\n",
    "    elif discriminant == 0:\n",
    "        root = -b / (2*a)\n",
    "        return f\"Roots are real and the same. Root = {root}\"\n",
    "    else:\n",
    "        real_part = -b / (2*a)\n",
    "        imaginary_part = math.sqrt(abs(discriminant)) / (2*a)\n",
    "        return f\"Roots are complex. Root 1 = {real_part} + {imaginary_part}i, Root 2 = {real_part} - {imaginary_part}i\"\n",
    "\n",
    "# Example usage:\n",
    "try:\n",
    "    a_coefficient = float(input(\"Enter the coefficient 'a': \"))\n",
    "    b_coefficient = float(input(\"Enter the coefficient 'b': \"))\n",
    "    c_constant = float(input(\"Enter the constant 'c': \"))\n",
    "    \n",
    "    if a_coefficient != 0:\n",
    "        result = calculate_roots(a_coefficient, b_coefficient, c_constant)\n",
    "        print(result)\n",
    "    else:\n",
    "        print(\"Invalid input. 'a' coefficient cannot be zero for a quadratic equation.\")\n",
    "except ValueError:\n",
    "    print(\"Invalid input. Please enter numerical values for coefficients and constants.\")\n"
   ]
  },
  {
   "cell_type": "code",
   "execution_count": null,
   "id": "61601710-52d8-4df4-a227-6201c29998bc",
   "metadata": {},
   "outputs": [],
   "source": [
    "19.\tCreate a Python program that checks if a given year is a century year or not using if-else."
   ]
  },
  {
   "cell_type": "code",
   "execution_count": 14,
   "id": "66b4709f-bb78-4133-a4f8-19828f7cae0b",
   "metadata": {},
   "outputs": [
    {
     "name": "stdin",
     "output_type": "stream",
     "text": [
      "Enter a year to check if it's a century year:  2100\n"
     ]
    },
    {
     "name": "stdout",
     "output_type": "stream",
     "text": [
      "2100 is not a century year.\n"
     ]
    }
   ],
   "source": [
    "def is_century_year(year):\n",
    "    if year % 100 == 0 and year % 400 != 0:\n",
    "        return f\"{year} is not a century year.\"\n",
    "    elif year % 100 == 0:\n",
    "        return f\"{year} is a century year.\"\n",
    "    else:\n",
    "        return f\"{year} is not a century year.\"\n",
    "\n",
    "# Example usage:\n",
    "try:\n",
    "    user_year = int(input(\"Enter a year to check if it's a century year: \"))\n",
    "    \n",
    "    if user_year > 0:\n",
    "        result = is_century_year(user_year)\n",
    "        print(result)\n",
    "    else:\n",
    "        print(\"Invalid input. Please enter a positive year.\")\n",
    "except ValueError:\n",
    "    print(\"Invalid input. Please enter a numerical value for the year.\")"
   ]
  },
  {
   "cell_type": "code",
   "execution_count": null,
   "id": "3ff205e0-68bf-4572-9f45-a04f324a6d46",
   "metadata": {},
   "outputs": [],
   "source": [
    "20.\tWrite a Python program to determine if a given number is a perfect square using if-else."
   ]
  },
  {
   "cell_type": "code",
   "execution_count": 16,
   "id": "5410338e-8383-431f-aa5b-7a58c1f81189",
   "metadata": {},
   "outputs": [
    {
     "name": "stdin",
     "output_type": "stream",
     "text": [
      "Enter a number to check if it's a perfect square:  144\n"
     ]
    },
    {
     "name": "stdout",
     "output_type": "stream",
     "text": [
      "144.0 is a perfect square.\n"
     ]
    }
   ],
   "source": [
    "def is_perfect_square(number):\n",
    "    # Check if the square root is an integer\n",
    "    square_root = int(number**0.5)\n",
    "    \n",
    "    if square_root**2 == number:\n",
    "        return f\"{number} is a perfect square.\"\n",
    "    else:\n",
    "        return f\"{number} is not a perfect square.\"\n",
    "\n",
    "# Example usage:\n",
    "try:\n",
    "    user_number = float(input(\"Enter a number to check if it's a perfect square: \"))\n",
    "    \n",
    "    if user_number >= 0:\n",
    "        result = is_perfect_square(user_number)\n",
    "        print(result)\n",
    "    else:\n",
    "        print(\"Invalid input. Please enter a non-negative number.\")\n",
    "except ValueError:\n",
    "    print(\"Invalid input. Please enter a numerical value for the number.\")"
   ]
  },
  {
   "cell_type": "code",
   "execution_count": null,
   "id": "3a2712bb-cd3f-4d8b-8772-30c39649b2ff",
   "metadata": {},
   "outputs": [],
   "source": [
    "21.\tExplain the purpose of the \"continue\" and \"break\" statements within if-else loops."
   ]
  },
  {
   "cell_type": "code",
   "execution_count": null,
   "id": "5fb124c1-5800-4f80-a9e1-e085f4966c42",
   "metadata": {},
   "outputs": [],
   "source": [
    "\"\"\"The continue statement is used to skip the rest of the code inside a loop for the current iteration and move on to the next iteration. \n",
    "It is particularly useful when you want to skip certain parts of the loop's body based on a specific condition. \n",
    "When a continue statement is encountered, the rest of the loop's body is skipped, and the loop proceeds to the next iteration.\"\"\"\n",
    "\"\"\"The break statement is used to exit the loop prematurely, regardless of the loop condition. \n",
    "When a break statement is encountered inside a loop, the loop is terminated immediately, and the program continues with the next statement after the loop.\"\"\""
   ]
  },
  {
   "cell_type": "code",
   "execution_count": null,
   "id": "d4ddd47c-6a90-4853-83bb-82ab21211938",
   "metadata": {},
   "outputs": [],
   "source": [
    "22.\tCreate a Python program that calculates the BMI of a person based on their weight and height using if-else."
   ]
  },
  {
   "cell_type": "code",
   "execution_count": 1,
   "id": "471b0a38-f628-46af-b92a-6bed90a2f077",
   "metadata": {},
   "outputs": [
    {
     "name": "stdin",
     "output_type": "stream",
     "text": [
      "Enter your weight in kilograms:  78\n",
      "Enter your height in meters:  1.8\n"
     ]
    },
    {
     "name": "stdout",
     "output_type": "stream",
     "text": [
      "Your BMI is 24.07. You are in the Normal weight category.\n"
     ]
    }
   ],
   "source": [
    "def calculate_bmi(weight, height):\n",
    "    # Check if weight and height are valid values\n",
    "    if weight > 0 and height > 0:\n",
    "        # Calculate BMI using the formula: BMI = weight / (height * height)\n",
    "        bmi = weight / (height ** 2)\n",
    "\n",
    "        # Determine BMI category based on standard BMI ranges\n",
    "        if bmi < 18.5:\n",
    "            category = \"Underweight\"\n",
    "        elif 18.5 <= bmi < 25:\n",
    "            category = \"Normal weight\"\n",
    "        elif 25 <= bmi < 30:\n",
    "            category = \"Overweight\"\n",
    "        else:\n",
    "            category = \"Obese\"\n",
    "\n",
    "        return f\"Your BMI is {bmi:.2f}. You are in the {category} category.\"\n",
    "    else:\n",
    "        return \"Invalid input. Please enter positive values for weight and height.\"\n",
    "\n",
    "# Example usage:\n",
    "try:\n",
    "    user_weight = float(input(\"Enter your weight in kilograms: \"))\n",
    "    user_height = float(input(\"Enter your height in meters: \"))\n",
    "\n",
    "    result = calculate_bmi(user_weight, user_height)\n",
    "    print(result)\n",
    "except ValueError:\n",
    "    print(\"Invalid input. Please enter numerical values for weight and height.\")"
   ]
  },
  {
   "cell_type": "code",
   "execution_count": null,
   "id": "86433e0f-780c-4c48-b043-5b17f87f9052",
   "metadata": {},
   "outputs": [],
   "source": [
    "23.\tHow can you use the \"filter()\" function with if-else statements to filter elements from a list?"
   ]
  },
  {
   "cell_type": "code",
   "execution_count": 2,
   "id": "a1c426be-d00b-4667-bffc-63d6a5801d24",
   "metadata": {},
   "outputs": [
    {
     "name": "stdout",
     "output_type": "stream",
     "text": [
      "Original list: [1, 2, 3, 4, 5, 6, 7, 8, 9, 10]\n",
      "Filtered list (even numbers): [2, 4, 6, 8, 10]\n"
     ]
    }
   ],
   "source": [
    "# Example: Filter even numbers from a list using filter() with if-else\n",
    "\n",
    "numbers = [1, 2, 3, 4, 5, 6, 7, 8, 9, 10]\n",
    "\n",
    "# Using a lambda function with if-else to filter even numbers\n",
    "filtered_numbers = filter(lambda x: True if x % 2 == 0 else False, numbers)\n",
    "\n",
    "# Convert the result to a list for easier display\n",
    "result_list = list(filtered_numbers)\n",
    "\n",
    "print(\"Original list:\", numbers)\n",
    "print(\"Filtered list (even numbers):\", result_list)"
   ]
  },
  {
   "cell_type": "code",
   "execution_count": null,
   "id": "edbf73fb-0232-4266-954a-70771501d1f0",
   "metadata": {},
   "outputs": [],
   "source": [
    "24.\tWrite a Python program to determine if a given number is prime or not using if-else."
   ]
  },
  {
   "cell_type": "code",
   "execution_count": 3,
   "id": "f2eea89f-c70d-4b1d-9ebd-f5a4ff5f918d",
   "metadata": {},
   "outputs": [
    {
     "name": "stdin",
     "output_type": "stream",
     "text": [
      "Enter a number to check if it's prime:  199\n"
     ]
    },
    {
     "name": "stdout",
     "output_type": "stream",
     "text": [
      "199 is a prime number.\n"
     ]
    }
   ],
   "source": [
    "def is_prime(number):\n",
    "    if number < 2:\n",
    "        return False  # Numbers less than 2 are not prime\n",
    "\n",
    "    # Check for factors from 2 to the square root of the number\n",
    "    for i in range(2, int(number**0.5) + 1):\n",
    "        if number % i == 0:\n",
    "            return False  # Found a factor, so the number is not prime\n",
    "\n",
    "    return True  # No factors found, so the number is prime\n",
    "\n",
    "# Example usage:\n",
    "try:\n",
    "    user_number = int(input(\"Enter a number to check if it's prime: \"))\n",
    "    \n",
    "    if user_number >= 0:\n",
    "        result = is_prime(user_number)\n",
    "        if result:\n",
    "            print(f\"{user_number} is a prime number.\")\n",
    "        else:\n",
    "            print(f\"{user_number} is not a prime number.\")\n",
    "    else:\n",
    "        print(\"Invalid input. Please enter a non-negative integer.\")\n",
    "except ValueError:\n",
    "    print(\"Invalid input. Please enter a numerical value for the number.\")"
   ]
  },
  {
   "cell_type": "code",
   "execution_count": null,
   "id": "927b73a6-032f-40e9-8cc4-ee1f2b1243bd",
   "metadata": {},
   "outputs": [],
   "source": [
    "Map :"
   ]
  },
  {
   "cell_type": "code",
   "execution_count": null,
   "id": "8532ab2f-e5ff-47bc-bb46-5ffbaa58fb67",
   "metadata": {},
   "outputs": [],
   "source": [
    "1.\tExplain the purpose of the `map()` function in Python and provide an example of how it can be used to apply a function to each element of an iterable."
   ]
  },
  {
   "cell_type": "code",
   "execution_count": 4,
   "id": "2684f7eb-b9d9-4509-a7d4-bf247460c711",
   "metadata": {},
   "outputs": [
    {
     "name": "stdout",
     "output_type": "stream",
     "text": [
      "Original numbers: [1, 2, 3, 4, 5]\n",
      "Squared numbers: [1, 4, 9, 16, 25]\n"
     ]
    }
   ],
   "source": [
    "\"\"\"The map() function in Python is a built-in function that is used to apply a specified function to all the items in an iterable (such as a list, tuple, or string) and return an iterator that produces the results. \n",
    "The purpose of map() is to efficiently transform data by applying a given function to each element of the iterable, without the need for explicit loops.\"\"\"\n",
    "# Example: Squaring each element in a list using map()\n",
    "\n",
    "# Define a function to square a number\n",
    "def square(x):\n",
    "    return x**2\n",
    "\n",
    "# List of numbers\n",
    "numbers = [1, 2, 3, 4, 5]\n",
    "\n",
    "# Use map() to apply the square function to each element in the list\n",
    "squared_numbers = map(square, numbers)\n",
    "\n",
    "# Convert the result to a list for easier display\n",
    "result_list = list(squared_numbers)\n",
    "\n",
    "# Print the original and squared numbers\n",
    "print(\"Original numbers:\", numbers)\n",
    "print(\"Squared numbers:\", result_list)"
   ]
  },
  {
   "cell_type": "code",
   "execution_count": null,
   "id": "9c537855-28c2-405f-9503-c8955bdd169d",
   "metadata": {},
   "outputs": [],
   "source": [
    "2.\tWrite a Python program that uses the `map()` function to square each element of a list of numbers."
   ]
  },
  {
   "cell_type": "code",
   "execution_count": 5,
   "id": "426b0eca-0dba-426f-a185-9b58d15aa65a",
   "metadata": {},
   "outputs": [
    {
     "name": "stdout",
     "output_type": "stream",
     "text": [
      "Original numbers: [1, 2, 3, 4, 5]\n",
      "Squared numbers: [1, 4, 9, 16, 25]\n"
     ]
    }
   ],
   "source": [
    "# Define a function to square a number\n",
    "def square(x):\n",
    "    return x**2\n",
    "\n",
    "# List of numbers\n",
    "numbers = [1, 2, 3, 4, 5]\n",
    "\n",
    "# Use map() to apply the square function to each element in the list\n",
    "squared_numbers = map(square, numbers)\n",
    "\n",
    "# Convert the result to a list for easier display\n",
    "result_list = list(squared_numbers)\n",
    "\n",
    "# Print the original and squared numbers\n",
    "print(\"Original numbers:\", numbers)\n",
    "print(\"Squared numbers:\", result_list)"
   ]
  },
  {
   "cell_type": "code",
   "execution_count": null,
   "id": "ea9e4ed7-f8c2-4a81-9b9d-a4e34b0066f7",
   "metadata": {},
   "outputs": [],
   "source": [
    "3.\tHow does the `map()` function differ from a list comprehension in Python, and when would you choose one over the other?"
   ]
  },
  {
   "cell_type": "code",
   "execution_count": null,
   "id": "319374ad-0ff7-43d1-ac3c-b20f976b7282",
   "metadata": {},
   "outputs": [],
   "source": [
    "1. Return Type:\n",
    "map(): Returns an iterator, which needs to be converted to a list or another iterable type to be explicitly seen or used.\n",
    "List Comprehension: Directly produces a new list.\n",
    "2. Readability and Conciseness:\n",
    "map(): Can be less readable, especially when using a separate function.\n",
    "List Comprehension: Often considered more concise and readable.\n",
    "3. Applicability:\n",
    "map(): Suitable when applying a function that already exists, especially when working with functions that take multiple arguments.\n",
    "List Comprehension: Provides more flexibility and readability for simple operations or when constructing a new list based on a specific pattern.\n",
    "4. Use of Functions:\n",
    "map(): Can use any callable function, including built-in or user-defined functions.\n",
    "List Comprehension: Supports more complex expressions and conditions directly.\n",
    "When to Choose One Over the Other:\n",
    "Use map() when:\n",
    "\n",
    "You already have a function that you want to apply.\n",
    "You need lazy evaluation (you don't need all results at once).\n",
    "The transformation logic is more complex and is better separated from the main code.\n",
    "Use List Comprehension when:\n",
    "\n",
    "The operation is simple and can be expressed concisely.\n",
    "You want to create a new list directly.\n",
    "You prefer a more readable and concise syntax."
   ]
  },
  {
   "cell_type": "code",
   "execution_count": null,
   "id": "dcbf1fff-de73-4029-98a0-2f63b47d02ea",
   "metadata": {},
   "outputs": [],
   "source": [
    "4.\tCreate a Python program that uses the `map()` function to convert a list of names to uppercase."
   ]
  },
  {
   "cell_type": "code",
   "execution_count": 6,
   "id": "121bf92c-a938-40d0-9df6-6903a2c7788e",
   "metadata": {},
   "outputs": [
    {
     "name": "stdout",
     "output_type": "stream",
     "text": [
      "Original names: ['Alice', 'Bob', 'Charlie', 'David', 'Eve']\n",
      "Uppercase names: ['ALICE', 'BOB', 'CHARLIE', 'DAVID', 'EVE']\n"
     ]
    }
   ],
   "source": [
    "# List of names\n",
    "names = [\"Alice\", \"Bob\", \"Charlie\", \"David\", \"Eve\"]\n",
    "\n",
    "# Use map() to convert each name to uppercase\n",
    "uppercase_names = map(str.upper, names)\n",
    "\n",
    "# Convert the result to a list for easier display\n",
    "result_list = list(uppercase_names)\n",
    "\n",
    "# Print the original and uppercase names\n",
    "print(\"Original names:\", names)\n",
    "print(\"Uppercase names:\", result_list)"
   ]
  },
  {
   "cell_type": "code",
   "execution_count": null,
   "id": "0ab35fc8-a767-4077-b76a-cb31b56f5ce7",
   "metadata": {},
   "outputs": [],
   "source": [
    "5.\tWrite a Python program that uses the `map()` function to calculate the length of each word in a list of strings."
   ]
  },
  {
   "cell_type": "code",
   "execution_count": 7,
   "id": "9b48295c-d8c0-43aa-ae96-16c5a793ca06",
   "metadata": {},
   "outputs": [
    {
     "name": "stdout",
     "output_type": "stream",
     "text": [
      "Original words: ['apple', 'banana', 'cherry', 'date', 'elderberry']\n",
      "Word lengths: [5, 6, 6, 4, 10]\n"
     ]
    }
   ],
   "source": [
    "# List of strings\n",
    "words = [\"apple\", \"banana\", \"cherry\", \"date\", \"elderberry\"]\n",
    "\n",
    "# Use map() to calculate the length of each word\n",
    "word_lengths = map(len, words)\n",
    "\n",
    "# Convert the result to a list for easier display\n",
    "result_list = list(word_lengths)\n",
    "\n",
    "# Print the original words and their lengths\n",
    "print(\"Original words:\", words)\n",
    "print(\"Word lengths:\", result_list)"
   ]
  },
  {
   "cell_type": "code",
   "execution_count": null,
   "id": "fbac8413-e10c-4316-b14e-7b9c50ea15b2",
   "metadata": {},
   "outputs": [],
   "source": [
    "6.\tHow can you use the `map()` function to apply a custom function to elements of multiple lists simultaneously in Python?"
   ]
  },
  {
   "cell_type": "code",
   "execution_count": 8,
   "id": "5c7794f1-36e7-43e5-b9e5-4798c86580ca",
   "metadata": {},
   "outputs": [
    {
     "name": "stdout",
     "output_type": "stream",
     "text": [
      "List 1: [1, 2, 3, 4, 5]\n",
      "List 2: [10, 20, 30, 40, 50]\n",
      "Result after adding corresponding elements: [11, 22, 33, 44, 55]\n"
     ]
    }
   ],
   "source": [
    "# Custom function to add corresponding elements from two lists\n",
    "def add_elements(x, y):\n",
    "    return x + y\n",
    "\n",
    "# Two lists of numbers\n",
    "list1 = [1, 2, 3, 4, 5]\n",
    "list2 = [10, 20, 30, 40, 50]\n",
    "\n",
    "# Use map() to apply the custom function to elements of both lists\n",
    "result = map(add_elements, list1, list2)\n",
    "\n",
    "# Convert the result to a list for easier display\n",
    "result_list = list(result)\n",
    "\n",
    "# Print the original lists and the result\n",
    "print(\"List 1:\", list1)\n",
    "print(\"List 2:\", list2)\n",
    "print(\"Result after adding corresponding elements:\", result_list)"
   ]
  },
  {
   "cell_type": "code",
   "execution_count": null,
   "id": "0cb7536d-3e33-48fe-99a8-a4bd16e8906c",
   "metadata": {},
   "outputs": [],
   "source": [
    "7.\tCreate a Python program that uses `map()` to convert a list of temperatures from Celsius to Fahrenheit."
   ]
  },
  {
   "cell_type": "code",
   "execution_count": 9,
   "id": "6834b82a-4829-49e8-b8fb-d6c23bc0fb8f",
   "metadata": {},
   "outputs": [
    {
     "name": "stdout",
     "output_type": "stream",
     "text": [
      "Temperatures in Celsius: [0, 10, 20, 30, 40]\n",
      "Temperatures in Fahrenheit: [32.0, 50.0, 68.0, 86.0, 104.0]\n"
     ]
    }
   ],
   "source": [
    "# Custom function to convert Celsius to Fahrenheit\n",
    "def celsius_to_fahrenheit(celsius):\n",
    "    return (celsius * 9/5) + 32\n",
    "\n",
    "# List of temperatures in Celsius\n",
    "temperatures_celsius = [0, 10, 20, 30, 40]\n",
    "\n",
    "# Use map() to apply the custom function to each temperature\n",
    "temperatures_fahrenheit = map(celsius_to_fahrenheit, temperatures_celsius)\n",
    "\n",
    "# Convert the result to a list for easier display\n",
    "result_list = list(temperatures_fahrenheit)\n",
    "\n",
    "# Print the original temperatures and their Fahrenheit equivalents\n",
    "print(\"Temperatures in Celsius:\", temperatures_celsius)\n",
    "print(\"Temperatures in Fahrenheit:\", result_list)"
   ]
  },
  {
   "cell_type": "code",
   "execution_count": null,
   "id": "784b683e-3657-4bf8-8f25-4e8895dba7f4",
   "metadata": {},
   "outputs": [],
   "source": [
    "8.\tWrite a Python program that uses the `map()` function to round each element of a list of floating-point numbers to the nearest integer."
   ]
  },
  {
   "cell_type": "code",
   "execution_count": 10,
   "id": "8595c5f6-ad54-4301-b9d4-bd3785569228",
   "metadata": {},
   "outputs": [
    {
     "name": "stdout",
     "output_type": "stream",
     "text": [
      "Original floating-point numbers: [3.14, 2.718, 1.414, 0.577, 5.669]\n",
      "Rounded integers: [3, 3, 1, 1, 6]\n"
     ]
    }
   ],
   "source": [
    "# List of floating-point numbers\n",
    "float_numbers = [3.14, 2.718, 1.414, 0.577, 5.669]\n",
    "\n",
    "# Use map() to round each element to the nearest integer\n",
    "rounded_integers = map(round, float_numbers)\n",
    "\n",
    "# Convert the result to a list for easier display\n",
    "result_list = list(rounded_integers)\n",
    "\n",
    "# Print the original floating-point numbers and their rounded integers\n",
    "print(\"Original floating-point numbers:\", float_numbers)\n",
    "print(\"Rounded integers:\", result_list)"
   ]
  },
  {
   "cell_type": "code",
   "execution_count": null,
   "id": "78df3b57-9d2e-4a10-8571-c6d94fdc0710",
   "metadata": {},
   "outputs": [],
   "source": [
    "Reduce :-"
   ]
  },
  {
   "cell_type": "code",
   "execution_count": null,
   "id": "073aeb9e-9e53-4955-8d6d-c53027cb3f6c",
   "metadata": {},
   "outputs": [],
   "source": [
    "1.\tWhat is the `reduce()` function in Python, and what module should you import to use it? Provide an example of its basic usage."
   ]
  },
  {
   "cell_type": "code",
   "execution_count": 1,
   "id": "5bd5e2d3-1e46-4eb3-9c92-fb64eb9e6615",
   "metadata": {},
   "outputs": [
    {
     "name": "stdout",
     "output_type": "stream",
     "text": [
      "15\n"
     ]
    }
   ],
   "source": [
    "#The reduce() function is part of the functools module in Python. It is used to apply a binary function (a function that takes two arguments) cumulatively to the items of an iterable, from left to right, so as to reduce the iterable to a single accumulated result.\n",
    "\n",
    "#Here's a basic example:\n",
    "from functools import reduce\n",
    "\n",
    "# Define a binary function to be applied\n",
    "def add(x, y):\n",
    "    return x + y\n",
    "\n",
    "# Create a list of numbers\n",
    "numbers = [1, 2, 3, 4, 5]\n",
    "\n",
    "# Use reduce to calculate the sum of the list\n",
    "result = reduce(add, numbers)\n",
    "\n",
    "print(result)"
   ]
  },
  {
   "cell_type": "code",
   "execution_count": null,
   "id": "6475b14d-dac5-4b5d-be7d-3fe03a1e039f",
   "metadata": {},
   "outputs": [],
   "source": [
    "2.\tWrite a Python program that uses the `reduce()` function to find the product of all elements in a list."
   ]
  },
  {
   "cell_type": "code",
   "execution_count": 2,
   "id": "e9c48ee1-455d-46b3-8398-006dc3366881",
   "metadata": {},
   "outputs": [
    {
     "name": "stdout",
     "output_type": "stream",
     "text": [
      "The product of the numbers is: 120\n"
     ]
    }
   ],
   "source": [
    "from functools import reduce\n",
    "\n",
    "# Define a binary function to be applied (multiplication in this case)\n",
    "def multiply(x, y):\n",
    "    return x * y\n",
    "\n",
    "# Create a list of numbers\n",
    "numbers = [2, 3, 4, 5]\n",
    "\n",
    "# Use reduce to calculate the product of the list\n",
    "product = reduce(multiply, numbers, 1)  # The third argument is the initial value\n",
    "\n",
    "print(\"The product of the numbers is:\", product)"
   ]
  },
  {
   "cell_type": "code",
   "execution_count": null,
   "id": "7e43a063-982a-4f09-8584-3925beed86e0",
   "metadata": {},
   "outputs": [],
   "source": [
    "3.\tCreate a Python program that uses `reduce()` to find the maximum element in a list of numbers."
   ]
  },
  {
   "cell_type": "code",
   "execution_count": 3,
   "id": "1f3336d9-1444-4ebb-bf97-5e60b6a82a98",
   "metadata": {},
   "outputs": [
    {
     "name": "stdout",
     "output_type": "stream",
     "text": [
      "The maximum element in the list is: 12\n"
     ]
    }
   ],
   "source": [
    "from functools import reduce\n",
    "\n",
    "# Define a binary function to be applied (maximum function in this case)\n",
    "def find_max(x, y):\n",
    "    return x if x > y else y\n",
    "\n",
    "# Create a list of numbers\n",
    "numbers = [8, 3, 12, 5, 7]\n",
    "\n",
    "# Use reduce to find the maximum element in the list\n",
    "max_number = reduce(find_max, numbers)\n",
    "\n",
    "print(\"The maximum element in the list is:\", max_number)"
   ]
  },
  {
   "cell_type": "code",
   "execution_count": null,
   "id": "b12e658b-2db1-436f-b8e8-140fd471a7bd",
   "metadata": {},
   "outputs": [],
   "source": [
    "4.\tHow can you use the `reduce()` function to concatenate a list of strings into a single string?"
   ]
  },
  {
   "cell_type": "code",
   "execution_count": 4,
   "id": "266d5f0c-17fa-45a1-b565-513f66117557",
   "metadata": {},
   "outputs": [
    {
     "name": "stdout",
     "output_type": "stream",
     "text": [
      "Concatenated string: Hello, world!\n"
     ]
    }
   ],
   "source": [
    "from functools import reduce\n",
    "\n",
    "# Define a binary function to be applied (string concatenation in this case)\n",
    "def concatenate_strings(x, y):\n",
    "    return x + y\n",
    "\n",
    "# Create a list of strings\n",
    "string_list = [\"Hello\", \", \", \"world\", \"!\"]\n",
    "\n",
    "# Use reduce to concatenate the strings in the list\n",
    "result_string = reduce(concatenate_strings, string_list)\n",
    "\n",
    "print(\"Concatenated string:\", result_string)"
   ]
  },
  {
   "cell_type": "code",
   "execution_count": null,
   "id": "342c3bd1-81a2-46c9-9911-3ff88c8d31cf",
   "metadata": {},
   "outputs": [],
   "source": [
    "5.\tWrite a Python program that calculates the factorial of a number using the `reduce()` function."
   ]
  },
  {
   "cell_type": "code",
   "execution_count": 5,
   "id": "4e0e8dee-f496-4f5a-b407-6fbd5b7313f7",
   "metadata": {},
   "outputs": [
    {
     "name": "stdin",
     "output_type": "stream",
     "text": [
      "Enter a number:  8\n"
     ]
    },
    {
     "name": "stdout",
     "output_type": "stream",
     "text": [
      "The factorial of 8 is: 40320\n"
     ]
    }
   ],
   "source": [
    "from functools import reduce\n",
    "\n",
    "# Define a binary function to be applied (multiplication in this case)\n",
    "def multiply(x, y):\n",
    "    return x * y\n",
    "\n",
    "# Function to calculate the factorial of a number\n",
    "def factorial(n):\n",
    "    # Use reduce to calculate the product of all numbers from 1 to n\n",
    "    return reduce(multiply, range(1, n + 1), 1)\n",
    "\n",
    "# Input: The number for which factorial needs to be calculated\n",
    "number = int(input(\"Enter a number: \"))\n",
    "\n",
    "# Check if the number is non-negative\n",
    "if number >= 0:\n",
    "    result = factorial(number)\n",
    "    print(f\"The factorial of {number} is:\", result)\n",
    "else:\n",
    "    print(\"Factorial is not defined for negative numbers.\")"
   ]
  },
  {
   "cell_type": "code",
   "execution_count": null,
   "id": "8579a0ea-dd40-429c-a3a8-7a21483f3616",
   "metadata": {},
   "outputs": [],
   "source": [
    "6.\tCreate a Python program that uses `reduce()` to find the GCD (Greatest Common Divisor) of a list of numbers."
   ]
  },
  {
   "cell_type": "code",
   "execution_count": 1,
   "id": "90536188-c726-463f-a442-d88242605551",
   "metadata": {},
   "outputs": [
    {
     "name": "stdout",
     "output_type": "stream",
     "text": [
      "The GCD of the numbers is: 12\n"
     ]
    }
   ],
   "source": [
    "from functools import reduce\n",
    "from math import gcd\n",
    "\n",
    "# Create a list of numbers\n",
    "numbers = [24, 36, 48, 60]\n",
    "\n",
    "# Use reduce with the gcd function to find the GCD of the list\n",
    "result_gcd = reduce(gcd, numbers)\n",
    "\n",
    "print(\"The GCD of the numbers is:\", result_gcd)"
   ]
  },
  {
   "cell_type": "code",
   "execution_count": null,
   "id": "0ac7e4a4-c5a9-4957-9ebd-364798f36c38",
   "metadata": {},
   "outputs": [],
   "source": [
    "7.\tWrite a Python program that uses the `reduce()` function to find the sum of the digits of a given number."
   ]
  },
  {
   "cell_type": "code",
   "execution_count": 1,
   "id": "1cb8c7f1-504b-4fdf-9b31-3b3c06c3a87c",
   "metadata": {},
   "outputs": [
    {
     "name": "stdin",
     "output_type": "stream",
     "text": [
      "Enter a number:  87\n"
     ]
    },
    {
     "name": "stdout",
     "output_type": "stream",
     "text": [
      "The sum of digits of 87 is: 15\n"
     ]
    }
   ],
   "source": [
    "from functools import reduce\n",
    "\n",
    "# Define a binary function to be applied (addition in this case)\n",
    "def add_digits(x, y):\n",
    "    return int(x) + int(y)\n",
    "\n",
    "# Function to find the sum of digits using reduce\n",
    "def sum_of_digits(number):\n",
    "    # Convert the number to a string to iterate through its digits\n",
    "    number_str = str(number)\n",
    "\n",
    "    # Use reduce to add up all the digits\n",
    "    return reduce(add_digits, number_str, 0)\n",
    "\n",
    "# Input: The number for which the sum of digits needs to be calculated\n",
    "number = int(input(\"Enter a number: \"))\n",
    "\n",
    "# Check if the number is non-negative\n",
    "if number >= 0:\n",
    "    result = sum_of_digits(number)\n",
    "    print(f\"The sum of digits of {number} is:\", result)\n",
    "else:\n",
    "    print(\"Please enter a non-negative number.\")"
   ]
  },
  {
   "cell_type": "code",
   "execution_count": null,
   "id": "bfc880d7-6847-4269-a83e-3852461081a2",
   "metadata": {},
   "outputs": [],
   "source": [
    "Filter :-"
   ]
  },
  {
   "cell_type": "code",
   "execution_count": null,
   "id": "15e372fc-d1fe-44d7-ac75-7a086c5ee67f",
   "metadata": {},
   "outputs": [],
   "source": [
    "1.\tExplain the purpose of the `filter()` function in Python and provide an example of how it can be used to filter elements from an iterable."
   ]
  },
  {
   "cell_type": "code",
   "execution_count": 2,
   "id": "e37a373f-ee62-4b3f-9df5-6c9207675390",
   "metadata": {},
   "outputs": [
    {
     "name": "stdout",
     "output_type": "stream",
     "text": [
      "[2, 4, 6, 8, 10]\n"
     ]
    }
   ],
   "source": [
    "\"\"\"The filter() function in Python is used to filter elements from an iterable (e.g., a list, tuple, or any other iterable object) based on a specified function, called the \"filtering function.\" \n",
    "The filter() function returns an iterator containing the elements for which the filtering function returns True.\"\"\"\n",
    "# Define a filtering function\n",
    "def is_even(num):\n",
    "    return num % 2 == 0\n",
    "\n",
    "# Create a list of numbers\n",
    "numbers = [1, 2, 3, 4, 5, 6, 7, 8, 9, 10]\n",
    "\n",
    "# Use filter() to get the even numbers from the list\n",
    "filtered_numbers = filter(is_even, numbers)\n",
    "\n",
    "# Convert the result to a list (as filter returns an iterator)\n",
    "even_numbers = list(filtered_numbers)\n",
    "\n",
    "# Print the result\n",
    "print(even_numbers)"
   ]
  },
  {
   "cell_type": "code",
   "execution_count": null,
   "id": "931e6020-1b81-43f2-ad70-adcc4ee0b7df",
   "metadata": {},
   "outputs": [],
   "source": [
    "2.\tWrite a Python program that uses the `filter()` function to select even numbers from a list of integers."
   ]
  },
  {
   "cell_type": "code",
   "execution_count": 3,
   "id": "a7da6d23-9237-4450-9d58-808b1e27e106",
   "metadata": {},
   "outputs": [
    {
     "name": "stdout",
     "output_type": "stream",
     "text": [
      "Original list: [1, 2, 3, 4, 5, 6, 7, 8, 9, 10]\n",
      "Even numbers: [2, 4, 6, 8, 10]\n"
     ]
    }
   ],
   "source": [
    "# Define a list of integers\n",
    "numbers = [1, 2, 3, 4, 5, 6, 7, 8, 9, 10]\n",
    "\n",
    "# Define the filtering function for even numbers\n",
    "def is_even(num):\n",
    "    return num % 2 == 0\n",
    "\n",
    "# Use filter() to select even numbers from the list\n",
    "even_numbers = list(filter(is_even, numbers))\n",
    "\n",
    "# Print the result\n",
    "print(\"Original list:\", numbers)\n",
    "print(\"Even numbers:\", even_numbers)"
   ]
  },
  {
   "cell_type": "code",
   "execution_count": null,
   "id": "268b04f7-fc4e-4f3c-9524-25fb8638d10d",
   "metadata": {},
   "outputs": [],
   "source": [
    "3.\tCreate a Python program that uses the `filter()` function to select names that start with a specific letter from a list of strings."
   ]
  },
  {
   "cell_type": "code",
   "execution_count": 4,
   "id": "2e6754f6-3e48-47c9-9048-3a68eecf3abd",
   "metadata": {},
   "outputs": [
    {
     "name": "stdout",
     "output_type": "stream",
     "text": [
      "Original list of names: ['Alice', 'Bob', 'Charlie', 'David', 'Eva', 'Frank', 'Grace']\n",
      "Names starting with 'E': ['Eva']\n"
     ]
    }
   ],
   "source": [
    "# Define a list of names\n",
    "names = [\"Alice\", \"Bob\", \"Charlie\", \"David\", \"Eva\", \"Frank\", \"Grace\"]\n",
    "\n",
    "# Define the filtering function for names starting with a specific letter\n",
    "def starts_with_letter(name, letter):\n",
    "    return name.startswith(letter)\n",
    "\n",
    "# Specify the letter to filter by\n",
    "target_letter = \"E\"\n",
    "\n",
    "# Use filter() to select names starting with the specified letter\n",
    "filtered_names = list(filter(lambda name: starts_with_letter(name, target_letter), names))\n",
    "\n",
    "# Print the result\n",
    "print(f\"Original list of names: {names}\")\n",
    "print(f\"Names starting with '{target_letter}': {filtered_names}\")"
   ]
  },
  {
   "cell_type": "code",
   "execution_count": null,
   "id": "596ecf20-f867-4a7f-853d-1b36e7b9af56",
   "metadata": {},
   "outputs": [],
   "source": [
    "4.\tWrite a Python program that uses the `filter()` function to select prime numbers from a list of integers."
   ]
  },
  {
   "cell_type": "code",
   "execution_count": 5,
   "id": "4fd87ac0-76fd-4e8d-96b4-d4bb143ec337",
   "metadata": {},
   "outputs": [
    {
     "name": "stdout",
     "output_type": "stream",
     "text": [
      "Original list of numbers: [2, 3, 5, 7, 11, 13, 17, 19, 23, 29, 31, 37, 41, 43, 47]\n",
      "Prime numbers: [2, 3, 5, 7, 11, 13, 17, 19, 23, 29, 31, 37, 41, 43, 47]\n"
     ]
    }
   ],
   "source": [
    "# Define a list of integers\n",
    "numbers = [2, 3, 5, 7, 11, 13, 17, 19, 23, 29, 31, 37, 41, 43, 47]\n",
    "\n",
    "# Define the filtering function for prime numbers\n",
    "def is_prime(num):\n",
    "    if num < 2:\n",
    "        return False\n",
    "    for i in range(2, int(num**0.5) + 1):\n",
    "        if num % i == 0:\n",
    "            return False\n",
    "    return True\n",
    "\n",
    "# Use filter() to select prime numbers from the list\n",
    "prime_numbers = list(filter(is_prime, numbers))\n",
    "\n",
    "# Print the result\n",
    "print(\"Original list of numbers:\", numbers)\n",
    "print(\"Prime numbers:\", prime_numbers)"
   ]
  },
  {
   "cell_type": "code",
   "execution_count": null,
   "id": "9e284c17-a1a4-4585-97d0-1ba66105b542",
   "metadata": {},
   "outputs": [],
   "source": [
    "5.\tHow can you use the `filter()` function to remove None values from a list in Python?"
   ]
  },
  {
   "cell_type": "code",
   "execution_count": 6,
   "id": "9f7125ef-92ad-4555-bdf3-b11c18f83528",
   "metadata": {},
   "outputs": [
    {
     "name": "stdout",
     "output_type": "stream",
     "text": [
      "Original list: [1, None, 3, 4, None, 6, None, 8]\n",
      "Filtered list without None values: [1, 3, 4, 6, 8]\n"
     ]
    }
   ],
   "source": [
    "# Define a list with None values\n",
    "my_list = [1, None, 3, 4, None, 6, None, 8]\n",
    "\n",
    "# Use filter() to remove None values from the list\n",
    "filtered_list = list(filter(lambda x: x is not None, my_list))\n",
    "\n",
    "# Print the result\n",
    "print(\"Original list:\", my_list)\n",
    "print(\"Filtered list without None values:\", filtered_list)"
   ]
  },
  {
   "cell_type": "code",
   "execution_count": null,
   "id": "234a1b21-76ed-4360-861b-10c27425e496",
   "metadata": {},
   "outputs": [],
   "source": [
    "6.\tCreate a Python program that uses `filter()` to select words longer than a certain length from a list of strings."
   ]
  },
  {
   "cell_type": "code",
   "execution_count": 7,
   "id": "c52c94b6-c1f2-4e5e-895c-9732232e6ced",
   "metadata": {},
   "outputs": [
    {
     "name": "stdout",
     "output_type": "stream",
     "text": [
      "Original list of words: ['apple', 'banana', 'grape', 'kiwi', 'orange', 'strawberry', 'watermelon']\n",
      "Words longer than 6 characters: ['strawberry', 'watermelon']\n"
     ]
    }
   ],
   "source": [
    "# Define a list of strings\n",
    "words = [\"apple\", \"banana\", \"grape\", \"kiwi\", \"orange\", \"strawberry\", \"watermelon\"]\n",
    "\n",
    "# Define the filtering function for words longer than a certain length\n",
    "def is_long(word, length):\n",
    "    return len(word) > length\n",
    "\n",
    "# Specify the minimum length to filter by\n",
    "min_length = 6\n",
    "\n",
    "# Use filter() to select words longer than the specified length\n",
    "filtered_words = list(filter(lambda word: is_long(word, min_length), words))\n",
    "\n",
    "# Print the result\n",
    "print(f\"Original list of words: {words}\")\n",
    "print(f\"Words longer than {min_length} characters: {filtered_words}\")"
   ]
  },
  {
   "cell_type": "code",
   "execution_count": null,
   "id": "2bac70e5-1e1d-4467-8251-e6a2d9212571",
   "metadata": {},
   "outputs": [],
   "source": [
    "7.\tWrite a Python program that uses the `filter()` function to select elements greater than a specified threshold from a list of values."
   ]
  },
  {
   "cell_type": "code",
   "execution_count": 8,
   "id": "8b11523d-e1c4-41e9-903d-5283db0aaf87",
   "metadata": {},
   "outputs": [
    {
     "name": "stdout",
     "output_type": "stream",
     "text": [
      "Original list of values: [10, 25, 5, 30, 15, 8, 40, 20]\n",
      "Values greater than 20: [25, 30, 40]\n"
     ]
    }
   ],
   "source": [
    "# Define a list of values\n",
    "values = [10, 25, 5, 30, 15, 8, 40, 20]\n",
    "\n",
    "# Specify the threshold to filter by\n",
    "threshold = 20\n",
    "\n",
    "# Use filter() to select values greater than the specified threshold\n",
    "filtered_values = list(filter(lambda x: x > threshold, values))\n",
    "\n",
    "# Print the result\n",
    "print(f\"Original list of values: {values}\")\n",
    "print(f\"Values greater than {threshold}: {filtered_values}\")"
   ]
  },
  {
   "cell_type": "code",
   "execution_count": null,
   "id": "aa5b1f02-4217-490e-bfe5-f0f2e3dedd97",
   "metadata": {},
   "outputs": [],
   "source": [
    "Recursion:-"
   ]
  },
  {
   "cell_type": "code",
   "execution_count": null,
   "id": "fc4cf08c-5e97-4a1b-9064-b757693e24db",
   "metadata": {},
   "outputs": [],
   "source": [
    "1.\tExplain the concept of recursion in Python. How does it differ from iteration?"
   ]
  },
  {
   "cell_type": "code",
   "execution_count": null,
   "id": "53fb1473-d529-45a9-9fae-46393be5c124",
   "metadata": {},
   "outputs": [],
   "source": [
    "\"\"\"Recursion is a programming concept where a function calls itself in its own definition. \n",
    "In Python, a recursive function is a function that solves a problem by solving smaller instances of the same problem. \n",
    "Recursion is based on the idea of breaking down a problem into smaller sub-problems until they become simple enough to solve directly.\"\"\"\n",
    "\n",
    "#Recursion and iteration (looping) are two different approaches to solve problems in programming. The main differences between them are:\n",
    "\n",
    "#1.Termination Condition:\n",
    "#Recursion: A recursive function must have a termination condition (base case) to stop the recursive calls.\n",
    "#Iteration: A loop continues until a certain condition is met.\n",
    "\n",
    "#2.Memory Usage:\n",
    "#Recursion: Recursive functions use the call stack to keep track of the function calls.Excessive recursion may lead to a stack overflow.\n",
    "#Iteration: Loops typically use less memory as they don't involve the call stack.\n",
    "\n",
    "#3.Readability:\n",
    "#Recursion: Recursive solutions can be elegant and closely mimic the problem definition, making the code more readable for certain problems.\n",
    "#Iteration: Some problems are more naturally solved using loops, and the code may be more straightforward in an iterative form.\n",
    "\n",
    "#4.Performance:\n",
    "#Recursion: Recursive solutions can have higher overhead due to function calls and stack usage.\n",
    "#Iteration: Iterative solutions may be more performant in some cases."
   ]
  },
  {
   "cell_type": "code",
   "execution_count": null,
   "id": "e92179df-fabf-459e-91a7-e95d32155da8",
   "metadata": {},
   "outputs": [],
   "source": [
    "2.\tWrite a Python program to calculate the factorial of a number using recursion."
   ]
  },
  {
   "cell_type": "code",
   "execution_count": 9,
   "id": "e3934652-53a3-4264-b2fd-99e7318492ff",
   "metadata": {},
   "outputs": [
    {
     "name": "stdin",
     "output_type": "stream",
     "text": [
      "Enter a number:  6\n"
     ]
    },
    {
     "name": "stdout",
     "output_type": "stream",
     "text": [
      "The factorial of 6 is: 720\n"
     ]
    }
   ],
   "source": [
    "def factorial(n):\n",
    "    # Base case: factorial of 0 or 1 is 1\n",
    "    if n == 0 or n == 1:\n",
    "        return 1\n",
    "    else:\n",
    "        # Recursive case: n! = n * (n-1)!\n",
    "        return n * factorial(n - 1)\n",
    "\n",
    "# Take user input for the number\n",
    "num = int(input(\"Enter a number: \"))\n",
    "\n",
    "# Check if the number is non-negative\n",
    "if num < 0:\n",
    "    print(\"Factorial is undefined for negative numbers.\")\n",
    "else:\n",
    "    result = factorial(num)\n",
    "    print(f\"The factorial of {num} is: {result}\")"
   ]
  },
  {
   "cell_type": "code",
   "execution_count": null,
   "id": "ca6abc84-244b-4e69-8869-87ca64949e94",
   "metadata": {},
   "outputs": [],
   "source": [
    "3.\tCreate a recursive Python function to find the nth Fibonacci number."
   ]
  },
  {
   "cell_type": "code",
   "execution_count": 10,
   "id": "3055c7ce-86f9-4f23-9727-a42c661c2084",
   "metadata": {},
   "outputs": [
    {
     "name": "stdin",
     "output_type": "stream",
     "text": [
      "Enter the value of n:  8\n"
     ]
    },
    {
     "name": "stdout",
     "output_type": "stream",
     "text": [
      "The 8th Fibonacci number is: 21\n"
     ]
    }
   ],
   "source": [
    "def fibonacci(n):\n",
    "    # Base case: Fibonacci of 0 is 0, and Fibonacci of 1 is 1\n",
    "    if n == 0:\n",
    "        return 0\n",
    "    elif n == 1:\n",
    "        return 1\n",
    "    else:\n",
    "        # Recursive case: Fibonacci(n) = Fibonacci(n-1) + Fibonacci(n-2)\n",
    "        return fibonacci(n - 1) + fibonacci(n - 2)\n",
    "\n",
    "# Take user input for the value of n\n",
    "num = int(input(\"Enter the value of n: \"))\n",
    "\n",
    "# Check if the input is non-negative\n",
    "if num < 0:\n",
    "    print(\"Fibonacci sequence is not defined for negative numbers.\")\n",
    "else:\n",
    "    result = fibonacci(num)\n",
    "    print(f\"The {num}th Fibonacci number is: {result}\")"
   ]
  },
  {
   "cell_type": "code",
   "execution_count": null,
   "id": "e650cfd4-bd16-4593-867e-38995b1e29d0",
   "metadata": {},
   "outputs": [],
   "source": [
    "4.\tWrite a recursive Python function to calculate the sum of all elements in a list."
   ]
  },
  {
   "cell_type": "code",
   "execution_count": 11,
   "id": "8973ff20-c1e4-4b7a-91f8-78525db6743a",
   "metadata": {},
   "outputs": [
    {
     "name": "stdout",
     "output_type": "stream",
     "text": [
      "The sum of the elements in the list is: 15\n"
     ]
    }
   ],
   "source": [
    "def list_sum_recursive(lst):\n",
    "    # Base case: an empty list has a sum of 0\n",
    "    if not lst:\n",
    "        return 0\n",
    "    else:\n",
    "        # Recursive case: sum of the first element + sum of the rest of the list\n",
    "        return lst[0] + list_sum_recursive(lst[1:])\n",
    "\n",
    "# Example usage:\n",
    "my_list = [1, 2, 3, 4, 5]\n",
    "result = list_sum_recursive(my_list)\n",
    "print(f\"The sum of the elements in the list is: {result}\")"
   ]
  },
  {
   "cell_type": "code",
   "execution_count": null,
   "id": "8be5a463-55dd-40b8-b39c-d4d0b44690be",
   "metadata": {},
   "outputs": [],
   "source": [
    "5.\tHow can you prevent a recursive function from running indefinitely, causing a stack overflow error?"
   ]
  },
  {
   "cell_type": "code",
   "execution_count": null,
   "id": "d63f6287-dcef-4501-b8ca-47afa74e673f",
   "metadata": {},
   "outputs": [],
   "source": [
    "\"\"\"Preventing a recursive function from running indefinitely and causing a stack overflow error involves ensuring that there is a proper termination condition (base case) in the recursive function. \n",
    "The base case is a condition that, when met, stops the recursion and provides a result without further recursive calls.\"\"\"\n",
    "\n",
    "#Here are some key steps to prevent infinite recursion and avoid a stack overflow error:\n",
    "\n",
    "#1.Define a Base Case:\n",
    "#Ensure that your recursive function has a base case that can be reached with the given input. \n",
    "#The base case should represent the simplest scenario that doesn't require further recursion.\n",
    "\n",
    "#2.Check Inputs:\n",
    "#Ensure that the function handles inputs appropriately, especially edge cases, and that the base case is designed to handle the smallest possible input.\n",
    "\n",
    "#3.Guarantee Progress Toward the Base Case:\n",
    "#In each recursive call, make sure that you are making progress toward reaching the base case. \n",
    "#This often involves modifying the input parameters in a way that brings the problem closer to the base case.\n",
    "\n",
    "#4.Use Proper Data Validation:\n",
    "#If the function expects certain types of input, validate the input to avoid unexpected behavior. \n",
    "#For example, check if the input is within a valid range or if it has the expected type.\n",
    "\n",
    "#5.Limit Recursion Depth:\n",
    "#In some cases, especially when dealing with potentially deep recursion,you might want to limit the maximum recursion depth. \n",
    "#This can be done using Python's sys.setrecursionlimit() function. However, use this cautiously, as setting a very high limit might still lead to a stack overflow."
   ]
  },
  {
   "cell_type": "code",
   "execution_count": null,
   "id": "628eeeae-dd0f-4ad5-8945-66a7f60359dd",
   "metadata": {},
   "outputs": [],
   "source": [
    "6.\tCreate a recursive Python function to find the greatest common divisor (GCD) of two numbers using the Euclidean algorithm."
   ]
  },
  {
   "cell_type": "code",
   "execution_count": 12,
   "id": "f6382d74-175c-47d6-b5bb-85eef220336d",
   "metadata": {},
   "outputs": [
    {
     "name": "stdin",
     "output_type": "stream",
     "text": [
      "Enter the first number:  8\n",
      "Enter the second number:  24\n"
     ]
    },
    {
     "name": "stdout",
     "output_type": "stream",
     "text": [
      "The GCD of 8 and 24 is: 8\n"
     ]
    }
   ],
   "source": [
    "def euclidean_gcd(a, b):\n",
    "    # Base case: GCD(a, 0) = a, and GCD(0, b) = b\n",
    "    if b == 0:\n",
    "        return a\n",
    "    else:\n",
    "        # Recursive case: GCD(a, b) = GCD(b, a % b)\n",
    "        return euclidean_gcd(b, a % b)\n",
    "\n",
    "# Example usage:\n",
    "num1 = int(input(\"Enter the first number: \"))\n",
    "num2 = int(input(\"Enter the second number: \"))\n",
    "\n",
    "result = euclidean_gcd(num1, num2)\n",
    "print(f\"The GCD of {num1} and {num2} is: {result}\")"
   ]
  },
  {
   "cell_type": "code",
   "execution_count": null,
   "id": "3c4dcb61-5c8e-47b1-a18f-b82fa04f75c1",
   "metadata": {},
   "outputs": [],
   "source": [
    "7.\tWrite a recursive Python function to reverse a string."
   ]
  },
  {
   "cell_type": "code",
   "execution_count": 13,
   "id": "69e5362a-bfe1-4e42-8cf2-9683515a626d",
   "metadata": {},
   "outputs": [
    {
     "name": "stdin",
     "output_type": "stream",
     "text": [
      "Enter a string:  hello world\n"
     ]
    },
    {
     "name": "stdout",
     "output_type": "stream",
     "text": [
      "The reversed string is: dlrow olleh\n"
     ]
    }
   ],
   "source": [
    "def reverse_string(s):\n",
    "    # Base case: an empty string or a string with one character is its own reverse\n",
    "    if len(s) <= 1:\n",
    "        return s\n",
    "    else:\n",
    "        # Recursive case: reverse the substring excluding the first character,\n",
    "        # then append the first character at the end\n",
    "        return reverse_string(s[1:]) + s[0]\n",
    "\n",
    "# Example usage:\n",
    "input_string = input(\"Enter a string: \")\n",
    "result = reverse_string(input_string)\n",
    "print(f\"The reversed string is: {result}\")"
   ]
  },
  {
   "cell_type": "code",
   "execution_count": null,
   "id": "7ac37bc2-107e-422a-930d-46d7e9bb0f89",
   "metadata": {},
   "outputs": [],
   "source": [
    "8.\tCreate a recursive Python function to calculate the power of a number (x^n)."
   ]
  },
  {
   "cell_type": "code",
   "execution_count": 14,
   "id": "82ffd4b8-dcaf-4e7a-b561-39db765c21d7",
   "metadata": {},
   "outputs": [
    {
     "name": "stdin",
     "output_type": "stream",
     "text": [
      "Enter the base (x):  5\n",
      "Enter the exponent (n):  3\n"
     ]
    },
    {
     "name": "stdout",
     "output_type": "stream",
     "text": [
      "5.0 raised to the power of 3 is: 125.0\n"
     ]
    }
   ],
   "source": [
    "def power(x, n):\n",
    "    # Base case: x^0 = 1\n",
    "    if n == 0:\n",
    "        return 1\n",
    "    else:\n",
    "        # Recursive case: x^n = x * x^(n-1)\n",
    "        return x * power(x, n - 1)\n",
    "\n",
    "# Example usage:\n",
    "base = float(input(\"Enter the base (x): \"))\n",
    "exponent = int(input(\"Enter the exponent (n): \"))\n",
    "\n",
    "result = power(base, exponent)\n",
    "print(f\"{base} raised to the power of {exponent} is: {result}\")"
   ]
  },
  {
   "cell_type": "code",
   "execution_count": null,
   "id": "385124e4-d900-4535-acc0-a22f3df1daf7",
   "metadata": {},
   "outputs": [],
   "source": [
    "9.\tWrite a recursive Python function to find all permutations of a given string."
   ]
  },
  {
   "cell_type": "code",
   "execution_count": 16,
   "id": "a7ac3c7d-f0b5-418e-b3c9-5f057df4cbb3",
   "metadata": {},
   "outputs": [
    {
     "name": "stdin",
     "output_type": "stream",
     "text": [
      "Enter a string:  hi\n"
     ]
    },
    {
     "name": "stdout",
     "output_type": "stream",
     "text": [
      "All permutations of hi are: ['hi', 'ih']\n"
     ]
    }
   ],
   "source": [
    "def get_permutations(s):\n",
    "    # Base case: if the string has only one character, return it as the only permutation\n",
    "    if len(s) <= 1:\n",
    "        return [s]\n",
    "    \n",
    "    # Recursive case: generate permutations for the substring without the first character\n",
    "    permutations = []\n",
    "    for i in range(len(s)):\n",
    "        first_char = s[i]\n",
    "        remaining_chars = s[:i] + s[i+1:]\n",
    "        # Recursively get permutations for the remaining substring\n",
    "        for perm in get_permutations(remaining_chars):\n",
    "            permutations.append(first_char + perm)\n",
    "    \n",
    "    return permutations\n",
    "\n",
    "# Example usage:\n",
    "input_string = input(\"Enter a string: \")\n",
    "result = get_permutations(input_string)\n",
    "print(f\"All permutations of {input_string} are: {result}\")"
   ]
  },
  {
   "cell_type": "code",
   "execution_count": null,
   "id": "35d4e5a1-d231-4eae-8f00-25b9756d14de",
   "metadata": {},
   "outputs": [],
   "source": [
    "10.\tWrite a recursive Python function to check if a string is a palindrome."
   ]
  },
  {
   "cell_type": "code",
   "execution_count": 17,
   "id": "54a62b32-c68a-4b8c-a63e-42d4b4d21536",
   "metadata": {},
   "outputs": [
    {
     "name": "stdin",
     "output_type": "stream",
     "text": [
      "Enter a string:  redivider\n"
     ]
    },
    {
     "name": "stdout",
     "output_type": "stream",
     "text": [
      "redivider is a palindrome.\n"
     ]
    }
   ],
   "source": [
    "def is_palindrome(s):\n",
    "    # Base case: an empty string or a string with one character is a palindrome\n",
    "    if len(s) <= 1:\n",
    "        return True\n",
    "    else:\n",
    "        # Recursive case: check if the first and last characters are the same,\n",
    "        # and recursively check if the substring between them is a palindrome\n",
    "        return s[0] == s[-1] and is_palindrome(s[1:-1])\n",
    "\n",
    "# Example usage:\n",
    "input_string = input(\"Enter a string: \")\n",
    "result = is_palindrome(input_string)\n",
    "\n",
    "if result:\n",
    "    print(f\"{input_string} is a palindrome.\")\n",
    "else:\n",
    "    print(f\"{input_string} is not a palindrome.\")"
   ]
  },
  {
   "cell_type": "code",
   "execution_count": null,
   "id": "4747e728-8d3e-4294-bdb4-92dd72e12eff",
   "metadata": {},
   "outputs": [],
   "source": [
    "11.\tCreate a recursive Python function to generate all possible combinations of a list of elements."
   ]
  },
  {
   "cell_type": "code",
   "execution_count": 18,
   "id": "b3a3950d-7294-491f-9787-a752fe00ac2d",
   "metadata": {},
   "outputs": [
    {
     "name": "stdin",
     "output_type": "stream",
     "text": [
      "Enter elements of the list (separated by spaces):  12 34 56 45 67\n"
     ]
    },
    {
     "name": "stdout",
     "output_type": "stream",
     "text": [
      "All combinations of ['12', '34', '56', '45', '67'] are: [[], ['67'], ['45'], ['45', '67'], ['56'], ['56', '67'], ['56', '45'], ['56', '45', '67'], ['34'], ['34', '67'], ['34', '45'], ['34', '45', '67'], ['34', '56'], ['34', '56', '67'], ['34', '56', '45'], ['34', '56', '45', '67'], ['12'], ['12', '67'], ['12', '45'], ['12', '45', '67'], ['12', '56'], ['12', '56', '67'], ['12', '56', '45'], ['12', '56', '45', '67'], ['12', '34'], ['12', '34', '67'], ['12', '34', '45'], ['12', '34', '45', '67'], ['12', '34', '56'], ['12', '34', '56', '67'], ['12', '34', '56', '45'], ['12', '34', '56', '45', '67']]\n"
     ]
    }
   ],
   "source": [
    "def generate_combinations(elements):\n",
    "    # Base case: an empty list has only one combination, the empty list itself\n",
    "    if not elements:\n",
    "        return [[]]\n",
    "    else:\n",
    "        # Recursive case: generate combinations without the first element,\n",
    "        # and combine it with combinations including the first element\n",
    "        first_element = elements[0]\n",
    "        rest_combinations = generate_combinations(elements[1:])\n",
    "        all_combinations = rest_combinations + [ [first_element] + combo for combo in rest_combinations]\n",
    "        return all_combinations\n",
    "\n",
    "# Example usage:\n",
    "input_list = input(\"Enter elements of the list (separated by spaces): \").split()\n",
    "result = generate_combinations(input_list)\n",
    "print(f\"All combinations of {input_list} are: {result}\")"
   ]
  },
  {
   "cell_type": "code",
   "execution_count": null,
   "id": "06c9d73d-fb8a-4201-b683-487d7d154045",
   "metadata": {},
   "outputs": [],
   "source": [
    "Basics of Functions:"
   ]
  },
  {
   "cell_type": "code",
   "execution_count": null,
   "id": "d3c7ed4a-78d9-441e-8836-db96d3e8ad22",
   "metadata": {},
   "outputs": [],
   "source": [
    "1.\tWhat is a function in Python, and why is it used?"
   ]
  },
  {
   "cell_type": "code",
   "execution_count": null,
   "id": "bf194cf0-71e0-46cb-9fb5-59bf1e609b9b",
   "metadata": {},
   "outputs": [],
   "source": [
    "\"\"\"In Python, a function is a block of reusable code that performs a specific task or a set of tasks.\n",
    "Functions allow you to break down a program into smaller, modular pieces, making the code more organized, readable, and maintainable.\n",
    "A function takes input parameters, processes them, and returns a result.\"\"\"\n",
    "\n",
    "#Functions are used for several reasons:\n",
    "\n",
    "#1.Modularity: Functions allow you to break down a program into smaller, manageable pieces. Each function can focus on a specific task, making the code easier to understand and maintain.\n",
    "\n",
    "#2.Reuse: Once a function is defined, it can be reused in different parts of the program. This promotes code reuse and helps avoid duplicating code.\n",
    "\n",
    "#3.Abstraction: Functions provide a level of abstraction, allowing you to use a function without needing to understand its internal implementation. This makes the code more readable and promotes teamwork.\n",
    "\n",
    "#4.Organization: Functions contribute to the organization of code, making it easier to structure and manage large programs.\n",
    "\n",
    "#5.Testing and Debugging: Functions make it easier to test and debug code because you can isolate and examine individual components."
   ]
  },
  {
   "cell_type": "code",
   "execution_count": null,
   "id": "e3f54b6a-59a4-47b3-851f-e015f39d0e6e",
   "metadata": {},
   "outputs": [],
   "source": [
    "2.\tHow do you define a function in Python? Provide an example."
   ]
  },
  {
   "cell_type": "code",
   "execution_count": 1,
   "id": "cd096c7b-1c73-49a2-be82-c7119b5a1e95",
   "metadata": {},
   "outputs": [],
   "source": [
    "#In Python, you can define a function using the def keyword followed by the function name, a pair of parentheses for parameters (if any), and a colon. The function body is indented.\n",
    "\n",
    "#Here's a simple example of a function that adds two numbers:\n",
    "def add_numbers(a, b):\n",
    "    # Function body: add two numbers and return the result\n",
    "    result = a + b\n",
    "    return result"
   ]
  },
  {
   "cell_type": "code",
   "execution_count": 2,
   "id": "f609b24b-2d86-453b-bc99-b8aaab8f4c67",
   "metadata": {},
   "outputs": [
    {
     "name": "stdout",
     "output_type": "stream",
     "text": [
      "8\n"
     ]
    }
   ],
   "source": [
    "# Calling the function with arguments 3 and 5\n",
    "result = add_numbers(3, 5)\n",
    "\n",
    "# Printing the result\n",
    "print(result)  # Output: 8"
   ]
  },
  {
   "cell_type": "code",
   "execution_count": null,
   "id": "fbd4f6c8-8e86-4731-b2c1-78fde188b6e6",
   "metadata": {},
   "outputs": [],
   "source": [
    "3.\tExplain the difference between a function definition and a function call."
   ]
  },
  {
   "cell_type": "code",
   "execution_count": null,
   "id": "c2d7ec21-ca45-41eb-9036-c0a048cd4dcb",
   "metadata": {},
   "outputs": [],
   "source": [
    "Function Definition:\n",
    "\n",
    "\"\"\"A function definition is the part of the code where you specify how a function works. \n",
    "It includes the function name, parameters (if any), and the code block that defines the tasks the function will perform.\n",
    "The definition is where you outline the behavior of the function without actually executing it.\"\"\"\n",
    "\n",
    "\"\"\"Function Call:A function call is the part of the code where you use a defined function by providing actual values (arguments) for its parameters. \n",
    "When a function is called, the program executes the code inside the function's body with the provided arguments, and the function returns a result (if specified).\"\"\""
   ]
  },
  {
   "cell_type": "code",
   "execution_count": null,
   "id": "72c77301-b02d-484a-91ec-e099a9e32add",
   "metadata": {},
   "outputs": [],
   "source": [
    "4.\tWrite a Python program that defines a function to calculate the sum of two numbers and then calls the function."
   ]
  },
  {
   "cell_type": "code",
   "execution_count": 3,
   "id": "7478ac8b-ce93-4461-b6e7-55af6ba41900",
   "metadata": {},
   "outputs": [
    {
     "name": "stdin",
     "output_type": "stream",
     "text": [
      "Enter the first number:  56\n",
      "Enter the second number:  76\n"
     ]
    },
    {
     "name": "stdout",
     "output_type": "stream",
     "text": [
      "The sum of 56.0 and 76.0 is: 132.0\n"
     ]
    }
   ],
   "source": [
    "# Function definition\n",
    "def calculate_sum(a, b):\n",
    "    result = a + b\n",
    "    return result\n",
    "\n",
    "# Function call\n",
    "num1 = float(input(\"Enter the first number: \"))\n",
    "num2 = float(input(\"Enter the second number: \"))\n",
    "\n",
    "# Call the function and store the result in a variable\n",
    "sum_result = calculate_sum(num1, num2)\n",
    "\n",
    "# Display the result\n",
    "print(f\"The sum of {num1} and {num2} is: {sum_result}\")"
   ]
  },
  {
   "cell_type": "code",
   "execution_count": null,
   "id": "7826f2c9-105b-4eb0-9cf9-89537b626960",
   "metadata": {},
   "outputs": [],
   "source": [
    "5.\tWhat is a function signature, and what information does it typically include?"
   ]
  },
  {
   "cell_type": "code",
   "execution_count": null,
   "id": "bb9010f5-cfcf-4c75-a50b-f2c80f960539",
   "metadata": {},
   "outputs": [],
   "source": [
    "\"\"\"A function signature in programming refers to the essential details that define a function. \n",
    "It includes key information about the function's name, parameters, return type (if any), and sometimes other details like whether the function throws exceptions or additional properties.\"\"\"\n",
    "\n",
    "#The typical components of a function signature include:\n",
    "\n",
    "#1.Function Name:\n",
    "#This is the name that uniquely identifies the function in the program. It should be meaningful and reflect the purpose of the function.\n",
    "\n",
    "#2.Parameters:\n",
    "#Parameters are the input values that the function takes. The function signature lists the names and types of these parameters. \n",
    "#It provides information about what kind of data the function expects as input.\n",
    "\n",
    "#3.Return Type:\n",
    "#If the function returns a value, the signature specifies the type of the returned value. \n",
    "#If the function doesn't return anything (void in some languages), this part may be omitted.\n",
    "\n",
    "#4.Exception(s): (Optional)\n",
    "#In some programming languages, the function signature may include information about the exceptions that the function can throw."
   ]
  },
  {
   "cell_type": "code",
   "execution_count": null,
   "id": "e1914f46-24ea-41ee-8a1c-895a7a33ae63",
   "metadata": {},
   "outputs": [],
   "source": [
    "6.\tCreate a Python function that takes two arguments and returns their product."
   ]
  },
  {
   "cell_type": "code",
   "execution_count": 4,
   "id": "17efcd41-7798-4f81-bc6e-48b385b66cbb",
   "metadata": {},
   "outputs": [
    {
     "name": "stdin",
     "output_type": "stream",
     "text": [
      "Enter the first number:  6\n",
      "Enter the second number:  9\n"
     ]
    },
    {
     "name": "stdout",
     "output_type": "stream",
     "text": [
      "The product of 6.0 and 9.0 is: 54.0\n"
     ]
    }
   ],
   "source": [
    "def calculate_product(a, b):\n",
    "    result = a * b\n",
    "    return result\n",
    "\n",
    "# Example usage:\n",
    "num1 = float(input(\"Enter the first number: \"))\n",
    "num2 = float(input(\"Enter the second number: \"))\n",
    "\n",
    "product_result = calculate_product(num1, num2)\n",
    "\n",
    "print(f\"The product of {num1} and {num2} is: {product_result}\")"
   ]
  },
  {
   "cell_type": "code",
   "execution_count": null,
   "id": "65f01a85-ebb3-4524-abc6-d2a2cda5967e",
   "metadata": {},
   "outputs": [],
   "source": [
    "Function Parameters and Arguments:"
   ]
  },
  {
   "cell_type": "code",
   "execution_count": null,
   "id": "4a9f5af9-4134-465a-874b-9ef2da25823a",
   "metadata": {},
   "outputs": [],
   "source": [
    "1.\tExplain the concepts of formal parameters and actual arguments in Python functions."
   ]
  },
  {
   "cell_type": "code",
   "execution_count": null,
   "id": "bdf54650-b133-414f-9985-52443a85cfe9",
   "metadata": {},
   "outputs": [],
   "source": [
    "#1.Formal Parameters:\n",
    "\"\"\"Formal parameters are the placeholders for the values that a function will receive when it is called.\n",
    "They are defined in the function signature as variables enclosed in parentheses following the function name.\n",
    "Formal parameters act as local variables within the function, and their values are set when the function is called with actual arguments.\"\"\"\n",
    "\n",
    "#2.Actual Arguments:\n",
    "#Actual arguments, also known as arguments or parameters, are the values or expressions passed to a function when it is called.\n",
    "#They provide the actual data that the function operates on.\n",
    "\n",
    "There are different types of actual arguments:\n",
    "#I)Positional Arguments: Matched by position. The first actual argument corresponds to the first formal parameter, and so on.\n",
    "#II)Keyword Arguments: Matched by name. You explicitly specify which formal parameter each actual argument corresponds to.\n",
    "#III)Default Arguments: Parameters with default values assigned in the function definition. If an actual argument is not provided, the default value is used.\n",
    "#IV)Variable-Length Arguments: Allow a function to accept a variable number of arguments. These can be collected using *args and **kwargs in the function signature. "
   ]
  },
  {
   "cell_type": "code",
   "execution_count": null,
   "id": "b25c2dbf-615e-4301-944b-f67791aa5dbf",
   "metadata": {},
   "outputs": [],
   "source": [
    "2.\tWrite a Python program that defines a function with default argument values."
   ]
  },
  {
   "cell_type": "code",
   "execution_count": 5,
   "id": "63e8b8d5-5642-4648-a1c9-4b992f282d98",
   "metadata": {},
   "outputs": [
    {
     "name": "stdout",
     "output_type": "stream",
     "text": [
      "Hello, Guest!\n",
      "Good morning, Alice!\n"
     ]
    }
   ],
   "source": [
    "def greet(name=\"Guest\", greeting=\"Hello\"):\n",
    "    \"\"\"\n",
    "    This function greets a person with a default message.\n",
    "    \n",
    "    Parameters:\n",
    "    - name (str): The name of the person to greet. Default is \"Guest\".\n",
    "    - greeting (str): The greeting message. Default is \"Hello\".\n",
    "    \n",
    "    Returns:\n",
    "    str: The complete greeting message.\n",
    "    \"\"\"\n",
    "    return f\"{greeting}, {name}!\"\n",
    "\n",
    "# Example usage without providing any arguments\n",
    "default_greeting = greet()\n",
    "print(default_greeting)  # Output: Hello, Guest!\n",
    "\n",
    "# Example usage with providing values for both parameters\n",
    "custom_greeting = greet(name=\"Alice\", greeting=\"Good morning\")\n",
    "print(custom_greeting)  # Output: Good morning, Alice!"
   ]
  },
  {
   "cell_type": "code",
   "execution_count": null,
   "id": "73fbe49e-0a72-41ac-8584-05ce45262d7a",
   "metadata": {},
   "outputs": [],
   "source": [
    "3.\tHow do you use keyword arguments in Python function calls? Provide an example."
   ]
  },
  {
   "cell_type": "code",
   "execution_count": 6,
   "id": "13d3c5bb-6b50-451e-97f8-8bf75d8a86c7",
   "metadata": {},
   "outputs": [
    {
     "name": "stdout",
     "output_type": "stream",
     "text": [
      "Total Bill Amount: $105.0\n"
     ]
    }
   ],
   "source": [
    "def calculate_bill(price, tax_rate=0.08, discount=0):\n",
    "    \"\"\"\n",
    "    Calculate the total bill amount.\n",
    "\n",
    "    Parameters:\n",
    "    - price (float): The base price of the item.\n",
    "    - tax_rate (float): The tax rate, default is 8% (0.08).\n",
    "    - discount (float): The discount amount, default is 0.\n",
    "\n",
    "    Returns:\n",
    "    float: The total bill amount after applying tax and discount.\n",
    "    \"\"\"\n",
    "    total_price = price + (price * tax_rate)\n",
    "    total_price -= discount\n",
    "    return total_price\n",
    "\n",
    "# Using keyword arguments to specify non-default values\n",
    "total_amount = calculate_bill(price=100, tax_rate=0.1, discount=5)\n",
    "print(f\"Total Bill Amount: ${total_amount}\")"
   ]
  },
  {
   "cell_type": "code",
   "execution_count": null,
   "id": "a60fe7e4-15bc-4646-ae3a-97b32b613351",
   "metadata": {},
   "outputs": [],
   "source": [
    "4.\tCreate a Python function that accepts a variable number of arguments and calculates their sum."
   ]
  },
  {
   "cell_type": "code",
   "execution_count": 7,
   "id": "cf508725-caf4-4caf-880c-ae7ce2aa5594",
   "metadata": {},
   "outputs": [
    {
     "name": "stdout",
     "output_type": "stream",
     "text": [
      "Sum: 15\n",
      "Sum: 8.0\n"
     ]
    }
   ],
   "source": [
    "def calculate_sum(*args):\n",
    "    \"\"\"\n",
    "    Calculate the sum of a variable number of arguments.\n",
    "\n",
    "    Parameters:\n",
    "    - *args: Variable number of arguments.\n",
    "\n",
    "    Returns:\n",
    "    int or float: The sum of the arguments.\n",
    "    \"\"\"\n",
    "    return sum(args)\n",
    "\n",
    "# Example usage\n",
    "result1 = calculate_sum(1, 2, 3, 4, 5)\n",
    "print(f\"Sum: {result1}\")  # Output: Sum: 15\n",
    "\n",
    "result2 = calculate_sum(2.5, 3.7, 1.8)\n",
    "print(f\"Sum: {result2}\")  # Output: Sum: 8.0"
   ]
  },
  {
   "cell_type": "code",
   "execution_count": null,
   "id": "6f41bd6c-fd6e-4351-89b9-7c7256ceeb03",
   "metadata": {},
   "outputs": [],
   "source": [
    "5.\tWhat is the purpose of the `*args` and `**kwargs` syntax in function parameter lists?"
   ]
  },
  {
   "cell_type": "code",
   "execution_count": null,
   "id": "76919291-bca9-49b7-9ef4-6d3f58028b6a",
   "metadata": {},
   "outputs": [],
   "source": [
    "*args (Arbitrary Positional Arguments):\n",
    "\n",
    "The *args syntax allows a function to accept any number of positional arguments.\n",
    "It collects these arguments into a tuple within the function.\n",
    "It is often used when you don't know in advance how many arguments will be passed to the function.\n",
    "\n",
    "**kwargs (Arbitrary Keyword Arguments):\n",
    "\n",
    "The **kwargs syntax allows a function to accept any number of keyword arguments.\n",
    "It collects these arguments into a dictionary within the function.\n",
    "It is useful when you want to pass a variable number of named arguments to a function."
   ]
  },
  {
   "cell_type": "code",
   "execution_count": null,
   "id": "d46ca9c1-4689-4d66-8bb4-920cc98b56b3",
   "metadata": {},
   "outputs": [],
   "source": [
    "Return Values and Scoping:"
   ]
  },
  {
   "cell_type": "code",
   "execution_count": null,
   "id": "4e919127-0a1d-4493-8daa-f50d1dfa959e",
   "metadata": {},
   "outputs": [],
   "source": [
    "1.\tDescribe the role of the `return` statement in Python functions and provide examples."
   ]
  },
  {
   "cell_type": "code",
   "execution_count": 8,
   "id": "d2c8ad55-0938-419d-ae2f-5765d318da6d",
   "metadata": {},
   "outputs": [
    {
     "name": "stdout",
     "output_type": "stream",
     "text": [
      "7\n"
     ]
    }
   ],
   "source": [
    "\"\"\"In Python, the return statement is used in functions to specify the value that a function should return.\n",
    "When a function is called, it may perform some operations and then use the return statement to send a result back to the caller. \n",
    "The returned value can be of any data type, including numbers, strings, lists, or even more complex objects.\"\"\"\n",
    "\n",
    "#Here's a simple example of a function that adds two numbers and uses the return statement to provide the result:\n",
    "def add_numbers(a, b):\n",
    "    result = a + b\n",
    "    return result\n",
    "\n",
    "# Example usage:\n",
    "sum_result = add_numbers(3, 4)\n",
    "print(sum_result)  # Output: 7"
   ]
  },
  {
   "cell_type": "code",
   "execution_count": null,
   "id": "5321d7df-27ba-4d5b-ba7b-04fa64209062",
   "metadata": {},
   "outputs": [],
   "source": [
    "2.\tExplain the concept of variable scope in Python, including local and global variables."
   ]
  },
  {
   "cell_type": "code",
   "execution_count": null,
   "id": "920b303e-0e2a-4383-80ae-b5a4323e6ad0",
   "metadata": {},
   "outputs": [],
   "source": [
    "#Local Variables:\n",
    "Local variables are declared within a function and can only be accessed within that function.\n",
    "They are created when the function is called and destroyed when the function exits.\n",
    "Attempting to access a local variable from outside its function or before it's defined will result in an error.\n",
    "\n",
    "#Global Variables:\n",
    "Global variables are declared outside of any function and can be accessed from any part of the code, both inside and outside functions.\n",
    "Unlike local variables, global variables persist throughout the program's execution.\n",
    "To modify a global variable from within a function, you need to use the global keyword."
   ]
  },
  {
   "cell_type": "code",
   "execution_count": null,
   "id": "43a6a999-c61c-408d-8cf8-83fd61b5f988",
   "metadata": {},
   "outputs": [],
   "source": [
    "3.\tWrite a Python program that demonstrates the use of global variables within functions."
   ]
  },
  {
   "cell_type": "code",
   "execution_count": 9,
   "id": "a67e8349-8222-4b7d-a39f-5d145247f151",
   "metadata": {},
   "outputs": [
    {
     "name": "stdout",
     "output_type": "stream",
     "text": [
      "Before any function call: Global Variable = 10\n",
      "Inside modify_global: Global Variable = 10\n",
      "After modify_global function call: Global Variable = 15\n",
      "Inside use_global: Global Variable = 15\n",
      "After use_global function call: Global Variable = 15\n"
     ]
    }
   ],
   "source": [
    "# Global variable\n",
    "global_variable = 10\n",
    "\n",
    "def modify_global():\n",
    "    # Access the global variable\n",
    "    global global_variable\n",
    "    print(\"Inside modify_global: Global Variable =\", global_variable)\n",
    "\n",
    "    # Modify the global variable\n",
    "    global_variable += 5\n",
    "\n",
    "# Function that uses the global variable\n",
    "def use_global():\n",
    "    print(\"Inside use_global: Global Variable =\", global_variable)\n",
    "\n",
    "# Initial value of the global variable\n",
    "print(\"Before any function call: Global Variable =\", global_variable)\n",
    "\n",
    "# Call the function to modify the global variable\n",
    "modify_global()\n",
    "\n",
    "# Check the modified global variable\n",
    "print(\"After modify_global function call: Global Variable =\", global_variable)\n",
    "\n",
    "# Call another function that uses the global variable\n",
    "use_global()\n",
    "\n",
    "# The global variable retains its modified value\n",
    "print(\"After use_global function call: Global Variable =\", global_variable)"
   ]
  },
  {
   "cell_type": "code",
   "execution_count": null,
   "id": "8bbd27c0-9a9d-49e4-8bae-80aa2f525a69",
   "metadata": {},
   "outputs": [],
   "source": [
    "4.\tCreate a Python function that calculates the factorial of a number and returns it."
   ]
  },
  {
   "cell_type": "code",
   "execution_count": 10,
   "id": "7f55b703-403e-45e8-948f-72ee35c730aa",
   "metadata": {},
   "outputs": [
    {
     "name": "stdout",
     "output_type": "stream",
     "text": [
      "The factorial of 5 is: 120\n"
     ]
    }
   ],
   "source": [
    "def factorial(n):\n",
    "    \"\"\"\n",
    "    Calculate the factorial of a given number.\n",
    "\n",
    "    Parameters:\n",
    "    - n (int): The number for which to calculate the factorial.\n",
    "\n",
    "    Returns:\n",
    "    - int: The factorial of the input number.\n",
    "    \"\"\"\n",
    "    # Base case: factorial of 0 and 1 is 1\n",
    "    if n == 0 or n == 1:\n",
    "        return 1\n",
    "    else:\n",
    "        # Recursive case: n! = n * (n-1)!\n",
    "        return n * factorial(n - 1)\n",
    "\n",
    "# Example usage:\n",
    "number = 5\n",
    "result = factorial(number)\n",
    "print(f\"The factorial of {number} is: {result}\")"
   ]
  },
  {
   "cell_type": "code",
   "execution_count": null,
   "id": "e4068abf-be10-4552-910e-dd4c1cc22d97",
   "metadata": {},
   "outputs": [],
   "source": [
    "5.\tHow can you access variables defined outside a function from within the function?"
   ]
  },
  {
   "cell_type": "code",
   "execution_count": null,
   "id": "78439d64-7ec8-4ec8-b4fa-f6ec45790cfe",
   "metadata": {},
   "outputs": [],
   "source": [
    "#Passing variables as parameters:\n",
    "\"\"\"You can pass variables as parameters to a function. The function can then use these parameters as local variables.\"\"\"\n",
    "\n",
    "#Using global variables:\n",
    "\"\"\"You can declare variables outside any function, making them global. Then, you can access these global variables from within a function.\"\"\""
   ]
  },
  {
   "cell_type": "code",
   "execution_count": null,
   "id": "bbf18861-8a67-47e7-bad0-ca14620d4d27",
   "metadata": {},
   "outputs": [],
   "source": [
    "Lambda Functions and Higher-Order Functions:"
   ]
  },
  {
   "cell_type": "code",
   "execution_count": null,
   "id": "50ff6508-0e15-4a27-9135-6ae2eaab9d16",
   "metadata": {},
   "outputs": [],
   "source": [
    "1.\tWhat are lambda functions in Python, and when are they typically used?"
   ]
  },
  {
   "cell_type": "code",
   "execution_count": null,
   "id": "cd449d65-21df-4f2e-a75e-7fb225c0b998",
   "metadata": {},
   "outputs": [],
   "source": [
    "\"\"\"In Python, a lambda function is a small, anonymous function defined using the lambda keyword. It is a way to create quick, throwaway functions without formally defining them using the def keyword. \n",
    "Lambda functions are often used for short, simple operations where a full function definition would be overkill.\"\"\"\n",
    "\n",
    "Common use cases include:\n",
    "#1.Functional Programming Constructs:\n",
    "Lambda functions are often used with functions like map(), filter(), and reduce() in functional programming paradigms.\n",
    "#2.Sorting:\n",
    "Lambda functions are commonly used as the key function in sorting operations.\n",
    "#3.Event Handlers:\n",
    "In GUI programming or event-driven programming, lambda functions are often used as quick event handlers."
   ]
  },
  {
   "cell_type": "code",
   "execution_count": null,
   "id": "0a9a22b3-5e88-4734-ae32-88a4b54a5975",
   "metadata": {},
   "outputs": [],
   "source": [
    "2.\tWrite a Python program that uses lambda functions to sort a list of tuples based on the second element."
   ]
  },
  {
   "cell_type": "code",
   "execution_count": 1,
   "id": "74da3504-d8f0-4657-a27b-4c91b94a6762",
   "metadata": {},
   "outputs": [
    {
     "name": "stdout",
     "output_type": "stream",
     "text": [
      "Original List: [(1, 3), (4, 1), (3, 5), (2, 2)]\n",
      "Sorted List based on the second element: [(4, 1), (2, 2), (1, 3), (3, 5)]\n"
     ]
    }
   ],
   "source": [
    "# Define a list of tuples\n",
    "pairs = [(1, 3), (4, 1), (3, 5), (2, 2)]\n",
    "\n",
    "# Use a lambda function as the key for sorting\n",
    "sorted_pairs = sorted(pairs, key=lambda x: x[1])\n",
    "\n",
    "# Print the sorted list\n",
    "print(\"Original List:\", pairs)\n",
    "print(\"Sorted List based on the second element:\", sorted_pairs)"
   ]
  },
  {
   "cell_type": "code",
   "execution_count": null,
   "id": "3eb10d92-d9d7-4430-98cf-5d86d86076c4",
   "metadata": {},
   "outputs": [],
   "source": [
    "3.\tExplain the concept of higher-order functions in Python, and provide an example."
   ]
  },
  {
   "cell_type": "code",
   "execution_count": 2,
   "id": "42c29a88-801c-4608-b32a-012c3dadbaf5",
   "metadata": {},
   "outputs": [
    {
     "name": "stdout",
     "output_type": "stream",
     "text": [
      "7\n",
      "6\n"
     ]
    }
   ],
   "source": [
    "\"\"\"In Python, a higher-order function is a function that can take one or more functions as arguments and/or return a function as its result. \n",
    "This concept is based on the idea of functions being first-class citizens in the programming language, meaning that functions can be treated like any other data types, such as integers or strings.\n",
    "\n",
    "Here's a brief explanation of higher-order functions:\n",
    "\n",
    "Taking a Function as an Argument:\n",
    "A higher-order function can accept another function as an argument. This allows you to pass behavior as a parameter to a function.\n",
    "\n",
    "Returning a Function:\n",
    "A higher-order function can also return a function as its result. This allows you to create functions dynamically based on certain conditions or configurations.\n",
    "\n",
    "Here's a simple example to illustrate the concept:\n",
    "# Higher-order function example\"\"\"\n",
    "def apply_operation(operator):\n",
    "    # This function returns another function\n",
    "    if operator == '+':\n",
    "        return lambda x, y: x + y\n",
    "    elif operator == '-':\n",
    "        return lambda x, y: x - y\n",
    "    elif operator == '*':\n",
    "        return lambda x, y: x * y\n",
    "    elif operator == '/':\n",
    "        return lambda x, y: x / y\n",
    "    else:\n",
    "        raise ValueError(\"Invalid operator\")\n",
    "\n",
    "# Example usage\n",
    "add_function = apply_operation('+')\n",
    "subtract_function = apply_operation('-')\n",
    "\n",
    "result1 = add_function(3, 4)      # Result: 7\n",
    "result2 = subtract_function(8, 2)  # Result: 6\n",
    "\n",
    "print(result1)\n",
    "print(result2)"
   ]
  },
  {
   "cell_type": "code",
   "execution_count": null,
   "id": "439ac01f-f0be-4651-bb76-61faa8400c91",
   "metadata": {},
   "outputs": [],
   "source": [
    "4.\tCreate a Python function that takes a list of numbers and a function as arguments, applying the function to each element in the list."
   ]
  },
  {
   "cell_type": "code",
   "execution_count": 3,
   "id": "e81a9865-3622-432f-8098-ef255ac6cfe4",
   "metadata": {},
   "outputs": [
    {
     "name": "stdout",
     "output_type": "stream",
     "text": [
      "Original List: [1, 2, 3, 4, 5]\n",
      "Result after applying the square function: [1, 4, 9, 16, 25]\n"
     ]
    }
   ],
   "source": [
    "def apply_function_to_list(numbers, custom_function):\n",
    "    \"\"\"\n",
    "    Applies the given function to each element in the list.\n",
    "\n",
    "    Parameters:\n",
    "    - numbers (list): List of numbers\n",
    "    - custom_function (function): Function to apply to each element in the list\n",
    "\n",
    "    Returns:\n",
    "    - List of results after applying the function to each element\n",
    "    \"\"\"\n",
    "    return [custom_function(num) for num in numbers]\n",
    "\n",
    "# Example usage:\n",
    "\n",
    "# Define a list of numbers\n",
    "numbers_list = [1, 2, 3, 4, 5]\n",
    "\n",
    "# Define a custom function (in this case, squaring the number)\n",
    "square_function = lambda x: x**2\n",
    "\n",
    "# Apply the custom function to each element in the list\n",
    "result = apply_function_to_list(numbers_list, square_function)\n",
    "\n",
    "# Print the original list and the result\n",
    "print(\"Original List:\", numbers_list)\n",
    "print(\"Result after applying the square function:\", result)"
   ]
  },
  {
   "cell_type": "code",
   "execution_count": null,
   "id": "839fd30f-a811-44f7-b13f-f4ce896fd577",
   "metadata": {},
   "outputs": [],
   "source": [
    "Built-in Functions:"
   ]
  },
  {
   "cell_type": "code",
   "execution_count": null,
   "id": "5c7f58a9-7566-47e7-ac33-832b694a1c8e",
   "metadata": {},
   "outputs": [],
   "source": [
    "1.\tDescribe the role of built-in functions like `len()`, `max()`, and `min()` in Python."
   ]
  },
  {
   "cell_type": "code",
   "execution_count": null,
   "id": "ccd5e3b4-e4ef-42c5-ba66-6e529f2ac62c",
   "metadata": {},
   "outputs": [],
   "source": [
    "Built-in functions like len(), max(), and min() play a crucial role in Python and are commonly used for various tasks. Here's a brief description of each:\n",
    "\n",
    "1.len() Function:\n",
    "\n",
    "Role: Returns the length (the number of items) of an object.\n",
    "Common Usage:\n",
    "Used with sequences (e.g., strings, lists, tuples) to find the number of elements.\n",
    "Helpful in loops and conditions when you need to iterate or perform actions based on the length of a sequence.\n",
    "\n",
    "2.max() and min() Functions:\n",
    "\n",
    "Role:\n",
    "max(): Returns the largest item in an iterable or the largest of two or more arguments.\n",
    "min(): Returns the smallest item in an iterable or the smallest of two or more arguments.\n",
    "Common Usage:\n",
    "Used to find the maximum or minimum value in a sequence (e.g., list, tuple) or among several values.\n",
    "Useful in scenarios where you need to find extreme values, such as the highest or lowest score in a list."
   ]
  },
  {
   "cell_type": "code",
   "execution_count": null,
   "id": "80a66e40-0441-4416-a498-cb33935c1f28",
   "metadata": {},
   "outputs": [],
   "source": [
    "2.\tWrite a Python program that uses the `map()` function to apply a function to each element of a list."
   ]
  },
  {
   "cell_type": "code",
   "execution_count": 4,
   "id": "8cc4bcb8-13df-483b-b9c6-b4a27126a646",
   "metadata": {},
   "outputs": [
    {
     "name": "stdout",
     "output_type": "stream",
     "text": [
      "Original List: [1, 2, 3, 4, 5]\n",
      "Squared Numbers: [1, 4, 9, 16, 25]\n"
     ]
    }
   ],
   "source": [
    "# Define a list of numbers\n",
    "numbers = [1, 2, 3, 4, 5]\n",
    "\n",
    "# Define a function to square a number\n",
    "def square(x):\n",
    "    return x**2\n",
    "\n",
    "# Use the map() function to apply the square function to each element in the list\n",
    "squared_numbers = map(square, numbers)\n",
    "\n",
    "# Convert the result to a list (as map returns an iterator in Python 3)\n",
    "squared_numbers_list = list(squared_numbers)\n",
    "\n",
    "# Print the original list and the result\n",
    "print(\"Original List:\", numbers)\n",
    "print(\"Squared Numbers:\", squared_numbers_list)"
   ]
  },
  {
   "cell_type": "code",
   "execution_count": null,
   "id": "85de28ed-77df-48ad-bc70-a4737838a4d1",
   "metadata": {},
   "outputs": [],
   "source": [
    "3.\tHow does the `filter()` function work in Python, and when would you use it?"
   ]
  },
  {
   "cell_type": "code",
   "execution_count": 5,
   "id": "5993d51a-3683-49a9-87b8-96efcd767cdf",
   "metadata": {},
   "outputs": [
    {
     "name": "stdout",
     "output_type": "stream",
     "text": [
      "Original List: [1, 2, 3, 4, 5, 6, 7, 8, 9]\n",
      "Even Numbers: [2, 4, 6, 8]\n"
     ]
    }
   ],
   "source": [
    "\"\"\"The filter() function in Python is used to construct an iterator from elements of an iterable for which a function returns true. \n",
    "It provides an elegant way to filter out elements from a sequence (such as a list) based on a specified condition. \n",
    "Here's an example to illustrate how the filter() function works:\"\"\"\n",
    "# Define a list of numbers\n",
    "numbers = [1, 2, 3, 4, 5, 6, 7, 8, 9]\n",
    "\n",
    "# Define a function to filter even numbers\n",
    "def is_even(x):\n",
    "    return x % 2 == 0\n",
    "\n",
    "# Use the filter() function to get a list of even numbers\n",
    "even_numbers = filter(is_even, numbers)\n",
    "\n",
    "# Convert the result to a list (as filter returns an iterator in Python 3)\n",
    "even_numbers_list = list(even_numbers)\n",
    "\n",
    "# Print the original list and the result\n",
    "print(\"Original List:\", numbers)\n",
    "print(\"Even Numbers:\", even_numbers_list)"
   ]
  },
  {
   "cell_type": "code",
   "execution_count": null,
   "id": "6d322790-f420-4c0d-8be5-1f2cea2b4fe3",
   "metadata": {},
   "outputs": [],
   "source": [
    "4.\tCreate a Python program that uses the `reduce()` function to find the product of all elements in a list."
   ]
  },
  {
   "cell_type": "code",
   "execution_count": 6,
   "id": "01b521c1-e6de-4072-a90c-d34e5d510fb7",
   "metadata": {},
   "outputs": [
    {
     "name": "stdout",
     "output_type": "stream",
     "text": [
      "Original List: [1, 2, 3, 4, 5]\n",
      "Product of Numbers: 120\n"
     ]
    }
   ],
   "source": [
    "from functools import reduce\n",
    "\n",
    "# Define a list of numbers\n",
    "numbers = [1, 2, 3, 4, 5]\n",
    "\n",
    "# Define a function to calculate the product of two numbers\n",
    "def multiply(x, y):\n",
    "    return x * y\n",
    "\n",
    "# Use the reduce() function to find the product of all elements in the list\n",
    "product = reduce(multiply, numbers)\n",
    "\n",
    "# Print the original list and the result\n",
    "print(\"Original List:\", numbers)\n",
    "print(\"Product of Numbers:\", product)"
   ]
  },
  {
   "cell_type": "code",
   "execution_count": null,
   "id": "4500c933-45ac-4bf5-a592-48f5f8a8aea1",
   "metadata": {},
   "outputs": [],
   "source": [
    "Function Documentation and Best Practices:"
   ]
  },
  {
   "cell_type": "code",
   "execution_count": null,
   "id": "bae92e44-3ec7-4f77-bdb0-c9602e6c244a",
   "metadata": {},
   "outputs": [],
   "source": [
    "1.\tExplain the purpose of docstrings in Python functions and how to write them."
   ]
  },
  {
   "cell_type": "code",
   "execution_count": null,
   "id": "d691d3b4-97da-4be5-89a3-c8cb9479d8ff",
   "metadata": {},
   "outputs": [],
   "source": [
    "Docstrings in Python are used to provide documentation and information about a function, module, class, or method. \n",
    "The primary purpose of docstrings is to serve as a form of inline documentation that can be easily accessed and understood by developers, users, and tools.\n",
    "\n",
    "Here are some key purposes of using docstrings:\n",
    "\n",
    "#1.Documentation for Users:\n",
    "Docstrings provide information about the purpose, usage, and behavior of a function or module.\n",
    "They serve as a quick reference for users who want to understand how to use a particular piece of code.\n",
    "\n",
    "#2.Code Readability:\n",
    "Docstrings contribute to code readability by explaining the purpose and functionality of the code without requiring the developer to look at the implementation details.\n",
    "\n",
    "#3.Automatic Documentation Generation:\n",
    "Docstrings can be extracted by documentation generation tools (e.g., Sphinx) to automatically generate documentation in various formats (HTML, PDF, etc.).\n",
    "\n",
    "#4.Help in IDEs and Interactive Sessions:\n",
    "Integrated Development Environments (IDEs) and interactive sessions can display docstrings to help developers understand the usage of functions and classes.\n",
    "\n",
    "Here's how to write docstrings in Python:\n",
    "\n",
    "Function Docstring:\n",
    "a)Place the docstring as the first statement in a function.\n",
    "b)Use triple double-quotes (\"\"\") for multiline docstrings or triple single-quotes (''') for single-line docstrings.\n",
    "c)Include information about the function's purpose, parameters, return values, and any other relevant details."
   ]
  },
  {
   "cell_type": "code",
   "execution_count": null,
   "id": "0bfa1611-988b-41fc-a4eb-31a37422b531",
   "metadata": {},
   "outputs": [],
   "source": [
    "2.\tDescribe some best practices for naming functions and variables in Python, including naming conventions and guidelines."
   ]
  },
  {
   "cell_type": "code",
   "execution_count": null,
   "id": "4a5feeef-60b7-47f0-83c7-150e53a8070f",
   "metadata": {},
   "outputs": [],
   "source": [
    "Naming functions and variables in Python following consistent and clear conventions is essential for code readability and maintainability. \n",
    "The Python community generally adheres to the PEP 8 style guide, which provides recommendations for naming conventions.\n",
    "Here are some best practices:\n",
    "\n",
    "1. Function and Variable Names:\n",
    "Use descriptive names that convey the purpose of the function or variable.\n",
    "Use lowercase with words separated by underscores (snake_case). This is the convention for function and variable names.\n",
    "2. Constants:\n",
    "Use uppercase letters with underscores for constants. Constants are usually defined at the module level and don't change their values.\n",
    "3. Module Names:\n",
    "Use short, lowercase names for modules. Avoid using underscores in module names.\n",
    "4. Class Names:\n",
    "Use CamelCase for class names (capitalizing the first letter of each word).\n",
    "Exception: Use a leading underscore for internal classes that are not part of the module's public API.\n",
    "5. Function and Variable Names Length:\n",
    "Be mindful of the length of your function and variable names. They should be descriptive but not excessively long.\n",
    "Aim for clarity and readability.\n",
    "6. Avoid Using Single-Character Names:\n",
    "Except for loop indices and certain other situations, avoid using single-character names. Use names that provide more context and meaning.\n",
    "7. Use Verb-Noun Naming for Functions:\n",
    "Use verb-noun pairs for function names. The function name should describe the action it performs.\n",
    "8. Avoid Reserved Words:\n",
    "Avoid using Python reserved words (e.g., list, str) as variable or function names.\n",
    "9. Be Consistent:\n",
    "Maintain consistency in naming conventions throughout your codebase. Consistency enhances readability and reduces confusion.\n",
    "10. Consider Code Review Feedback:"
   ]
  }
 ],
 "metadata": {
  "kernelspec": {
   "display_name": "Python 3 (ipykernel)",
   "language": "python",
   "name": "python3"
  },
  "language_info": {
   "codemirror_mode": {
    "name": "ipython",
    "version": 3
   },
   "file_extension": ".py",
   "mimetype": "text/x-python",
   "name": "python",
   "nbconvert_exporter": "python",
   "pygments_lexer": "ipython3",
   "version": "3.10.8"
  }
 },
 "nbformat": 4,
 "nbformat_minor": 5
}
